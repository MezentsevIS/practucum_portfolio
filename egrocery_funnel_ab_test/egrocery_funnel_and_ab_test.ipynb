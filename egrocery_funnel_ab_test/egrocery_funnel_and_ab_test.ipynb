{
 "cells": [
  {
   "cell_type": "markdown",
   "metadata": {},
   "source": [
    "# Анализ поведения пользователей мобильного приложения"
   ]
  },
  {
   "cell_type": "markdown",
   "metadata": {},
   "source": [
    "Задачи проекта\n",
    "\n",
    "1. Изучение воронки продаж - анализ конверсий на разных этапах воронки.\n",
    "2. Анализ результатов А/Б-теста - оценка влияния изменения интерфейса на поведение пользователей.\n",
    "\n",
    "На этапе анализа воронки продаж требуется проанализировать поведение пользователей мобильного приложения стартапа, занимающегося продажей продуктов питания. Необходимо выяснить, как пользователи проходят путь от главной страницы приложения до успешной оплаты покупки, на каких этапах высокая конверсия, а на каких - низкая.\n",
    "\n",
    "На этапе анализа результатов А/Б-теста необходимо оценить влияние изменений в интерфейсе приложения на пользовательский опыт - дизайнеры предложили поменять шрифты во всём приложении. Пользователей разбили на 3 группы: 2 контрольные со старыми шрифтами и одну экспериментальную — с новыми. Требуется выяснить, имеются ли статистически значимые различия в конверсии пользователей между группами теста.\n",
    "\n",
    "Данные для анализа - логи пользователей мобильного приложения."
   ]
  },
  {
   "cell_type": "markdown",
   "metadata": {},
   "source": [
    "## Считывание и обзор данных\n",
    "\n",
    "Подключим необхоимые для работы библиотеки."
   ]
  },
  {
   "cell_type": "code",
   "execution_count": 1,
   "metadata": {},
   "outputs": [],
   "source": [
    "import pandas as pd\n",
    "import numpy as np\n",
    "import scipy.stats as st\n",
    "import math as mth\n",
    "import matplotlib.pyplot as plt\n",
    "\n",
    "pd.options.mode.chained_assignment = None"
   ]
  },
  {
   "cell_type": "markdown",
   "metadata": {},
   "source": [
    "Считаем данные"
   ]
  },
  {
   "cell_type": "code",
   "execution_count": 2,
   "metadata": {},
   "outputs": [],
   "source": [
    "try:\n",
    "    logs = pd.read_csv('datasets/logs_exp.csv', sep='\\t')\n",
    "except:\n",
    "    logs = pd.read_csv('/datasets/logs_exp.csv', sep='\\t')"
   ]
  },
  {
   "cell_type": "markdown",
   "metadata": {},
   "source": [
    "Проведем обзор данных"
   ]
  },
  {
   "cell_type": "code",
   "execution_count": 3,
   "metadata": {},
   "outputs": [
    {
     "data": {
      "text/html": [
       "<div>\n",
       "<style scoped>\n",
       "    .dataframe tbody tr th:only-of-type {\n",
       "        vertical-align: middle;\n",
       "    }\n",
       "\n",
       "    .dataframe tbody tr th {\n",
       "        vertical-align: top;\n",
       "    }\n",
       "\n",
       "    .dataframe thead th {\n",
       "        text-align: right;\n",
       "    }\n",
       "</style>\n",
       "<table border=\"1\" class=\"dataframe\">\n",
       "  <thead>\n",
       "    <tr style=\"text-align: right;\">\n",
       "      <th></th>\n",
       "      <th>EventName</th>\n",
       "      <th>DeviceIDHash</th>\n",
       "      <th>EventTimestamp</th>\n",
       "      <th>ExpId</th>\n",
       "    </tr>\n",
       "  </thead>\n",
       "  <tbody>\n",
       "    <tr>\n",
       "      <th>0</th>\n",
       "      <td>MainScreenAppear</td>\n",
       "      <td>4575588528974610257</td>\n",
       "      <td>1564029816</td>\n",
       "      <td>246</td>\n",
       "    </tr>\n",
       "    <tr>\n",
       "      <th>1</th>\n",
       "      <td>MainScreenAppear</td>\n",
       "      <td>7416695313311560658</td>\n",
       "      <td>1564053102</td>\n",
       "      <td>246</td>\n",
       "    </tr>\n",
       "    <tr>\n",
       "      <th>2</th>\n",
       "      <td>PaymentScreenSuccessful</td>\n",
       "      <td>3518123091307005509</td>\n",
       "      <td>1564054127</td>\n",
       "      <td>248</td>\n",
       "    </tr>\n",
       "    <tr>\n",
       "      <th>3</th>\n",
       "      <td>CartScreenAppear</td>\n",
       "      <td>3518123091307005509</td>\n",
       "      <td>1564054127</td>\n",
       "      <td>248</td>\n",
       "    </tr>\n",
       "    <tr>\n",
       "      <th>4</th>\n",
       "      <td>PaymentScreenSuccessful</td>\n",
       "      <td>6217807653094995999</td>\n",
       "      <td>1564055322</td>\n",
       "      <td>248</td>\n",
       "    </tr>\n",
       "  </tbody>\n",
       "</table>\n",
       "</div>"
      ],
      "text/plain": [
       "                 EventName         DeviceIDHash  EventTimestamp  ExpId\n",
       "0         MainScreenAppear  4575588528974610257      1564029816    246\n",
       "1         MainScreenAppear  7416695313311560658      1564053102    246\n",
       "2  PaymentScreenSuccessful  3518123091307005509      1564054127    248\n",
       "3         CartScreenAppear  3518123091307005509      1564054127    248\n",
       "4  PaymentScreenSuccessful  6217807653094995999      1564055322    248"
      ]
     },
     "execution_count": 3,
     "metadata": {},
     "output_type": "execute_result"
    }
   ],
   "source": [
    "logs.head()"
   ]
  },
  {
   "cell_type": "code",
   "execution_count": 4,
   "metadata": {},
   "outputs": [
    {
     "name": "stdout",
     "output_type": "stream",
     "text": [
      "<class 'pandas.core.frame.DataFrame'>\n",
      "RangeIndex: 244126 entries, 0 to 244125\n",
      "Data columns (total 4 columns):\n",
      " #   Column          Non-Null Count   Dtype \n",
      "---  ------          --------------   ----- \n",
      " 0   EventName       244126 non-null  object\n",
      " 1   DeviceIDHash    244126 non-null  int64 \n",
      " 2   EventTimestamp  244126 non-null  int64 \n",
      " 3   ExpId           244126 non-null  int64 \n",
      "dtypes: int64(3), object(1)\n",
      "memory usage: 7.5+ MB\n"
     ]
    }
   ],
   "source": [
    "logs.info()"
   ]
  },
  {
   "cell_type": "markdown",
   "metadata": {},
   "source": [
    "Таблица содержит 244126 записей.\n",
    "\n",
    "Каждая запись - это действие пользователя в приложении, или событие.\n",
    "\n",
    "Для каждого события задано четыре параметра:\n",
    "\n",
    "- EventName — название события;\n",
    "- DeviceIDHash — уникальный идентификатор пользователя;\n",
    "- EventTimestamp — время события;\n",
    "- ExpId — номер эксперимента.\n",
    "\n",
    "Из имеющихся данных известно, что к исследуемому А/Б-тесту относятся три группы экспериментов: 246 и 247 — контрольные группы, 248 — экспериментальная.\n",
    "\n",
    "Явных пропусков в данных нет.\n",
    "\n",
    "Перейдем к предварительной обработке данных."
   ]
  },
  {
   "cell_type": "markdown",
   "metadata": {},
   "source": [
    "## Предобработка данные"
   ]
  },
  {
   "cell_type": "markdown",
   "metadata": {},
   "source": [
    "Произведем некоторые изменения в исходных даннх для более удобной работы с ними."
   ]
  },
  {
   "cell_type": "markdown",
   "metadata": {},
   "source": [
    "### Названия столбцов"
   ]
  },
  {
   "cell_type": "markdown",
   "metadata": {},
   "source": [
    "Заменим названия столбцов для более удобного обращения."
   ]
  },
  {
   "cell_type": "code",
   "execution_count": 5,
   "metadata": {},
   "outputs": [],
   "source": [
    "logs.columns = ['event', 'user', 'timestamp', 'group']"
   ]
  },
  {
   "cell_type": "markdown",
   "metadata": {},
   "source": [
    "### Пропуски и дубликаты"
   ]
  },
  {
   "cell_type": "markdown",
   "metadata": {},
   "source": [
    "Определим наличие пропусков и дубликатов, оценим их количество и удалим при наличии."
   ]
  },
  {
   "cell_type": "markdown",
   "metadata": {},
   "source": [
    "Сначала проверим явные дубликаты."
   ]
  },
  {
   "cell_type": "code",
   "execution_count": 6,
   "metadata": {},
   "outputs": [
    {
     "data": {
      "text/plain": [
       "413"
      ]
     },
     "execution_count": 6,
     "metadata": {},
     "output_type": "execute_result"
    }
   ],
   "source": [
    "logs[logs.duplicated()]['user'].count()"
   ]
  },
  {
   "cell_type": "markdown",
   "metadata": {},
   "source": [
    "Имеем 413 дубликатов. Удалим их."
   ]
  },
  {
   "cell_type": "code",
   "execution_count": 7,
   "metadata": {},
   "outputs": [],
   "source": [
    "logs = logs.drop_duplicates().reset_index(drop=True)"
   ]
  },
  {
   "cell_type": "code",
   "execution_count": 8,
   "metadata": {},
   "outputs": [
    {
     "name": "stdout",
     "output_type": "stream",
     "text": [
      "<class 'pandas.core.frame.DataFrame'>\n",
      "RangeIndex: 243713 entries, 0 to 243712\n",
      "Data columns (total 4 columns):\n",
      " #   Column     Non-Null Count   Dtype \n",
      "---  ------     --------------   ----- \n",
      " 0   event      243713 non-null  object\n",
      " 1   user       243713 non-null  int64 \n",
      " 2   timestamp  243713 non-null  int64 \n",
      " 3   group      243713 non-null  int64 \n",
      "dtypes: int64(3), object(1)\n",
      "memory usage: 7.4+ MB\n"
     ]
    }
   ],
   "source": [
    "logs.info()"
   ]
  },
  {
   "cell_type": "markdown",
   "metadata": {},
   "source": [
    "Проверим наличие неявных дубликатов и пропусков в столбцах `'event'` и `'group'`."
   ]
  },
  {
   "cell_type": "code",
   "execution_count": 9,
   "metadata": {},
   "outputs": [
    {
     "data": {
      "text/plain": [
       "array(['MainScreenAppear', 'PaymentScreenSuccessful', 'CartScreenAppear',\n",
       "       'OffersScreenAppear', 'Tutorial'], dtype=object)"
      ]
     },
     "execution_count": 9,
     "metadata": {},
     "output_type": "execute_result"
    }
   ],
   "source": [
    "logs['event'].unique()"
   ]
  },
  {
   "cell_type": "code",
   "execution_count": 10,
   "metadata": {},
   "outputs": [
    {
     "data": {
      "text/plain": [
       "array([246, 248, 247], dtype=int64)"
      ]
     },
     "execution_count": 10,
     "metadata": {},
     "output_type": "execute_result"
    }
   ],
   "source": [
    "logs['group'].unique()"
   ]
  },
  {
   "cell_type": "markdown",
   "metadata": {},
   "source": [
    "Неявных пропусков и дубликатов в полях `'event'` и `'group'` не выявлено."
   ]
  },
  {
   "cell_type": "markdown",
   "metadata": {},
   "source": [
    "### Типы данных"
   ]
  },
  {
   "cell_type": "markdown",
   "metadata": {},
   "source": [
    "Преобразуем формат данных в поле `'group'`, чтобы занимали меньше места."
   ]
  },
  {
   "cell_type": "code",
   "execution_count": 11,
   "metadata": {},
   "outputs": [],
   "source": [
    "logs['group'] = logs['group'].astype('int16')"
   ]
  },
  {
   "cell_type": "code",
   "execution_count": 12,
   "metadata": {},
   "outputs": [
    {
     "data": {
      "text/plain": [
       "array([246, 248, 247], dtype=int16)"
      ]
     },
     "execution_count": 12,
     "metadata": {},
     "output_type": "execute_result"
    }
   ],
   "source": [
    "logs['group'].unique()"
   ]
  },
  {
   "cell_type": "markdown",
   "metadata": {},
   "source": [
    "Добавим столбцы с датой и временем события и отдельно с датой события"
   ]
  },
  {
   "cell_type": "code",
   "execution_count": 13,
   "metadata": {},
   "outputs": [],
   "source": [
    "logs['dt'] = pd.to_datetime(logs['timestamp'], unit='s')\n",
    "logs['date'] = pd.to_datetime(logs['dt'].dt.date)"
   ]
  },
  {
   "cell_type": "code",
   "execution_count": 14,
   "metadata": {},
   "outputs": [
    {
     "name": "stdout",
     "output_type": "stream",
     "text": [
      "<class 'pandas.core.frame.DataFrame'>\n",
      "RangeIndex: 243713 entries, 0 to 243712\n",
      "Data columns (total 6 columns):\n",
      " #   Column     Non-Null Count   Dtype         \n",
      "---  ------     --------------   -----         \n",
      " 0   event      243713 non-null  object        \n",
      " 1   user       243713 non-null  int64         \n",
      " 2   timestamp  243713 non-null  int64         \n",
      " 3   group      243713 non-null  int16         \n",
      " 4   dt         243713 non-null  datetime64[ns]\n",
      " 5   date       243713 non-null  datetime64[ns]\n",
      "dtypes: datetime64[ns](2), int16(1), int64(2), object(1)\n",
      "memory usage: 9.8+ MB\n"
     ]
    }
   ],
   "source": [
    "logs.info()"
   ]
  },
  {
   "cell_type": "code",
   "execution_count": 15,
   "metadata": {},
   "outputs": [
    {
     "data": {
      "text/html": [
       "<div>\n",
       "<style scoped>\n",
       "    .dataframe tbody tr th:only-of-type {\n",
       "        vertical-align: middle;\n",
       "    }\n",
       "\n",
       "    .dataframe tbody tr th {\n",
       "        vertical-align: top;\n",
       "    }\n",
       "\n",
       "    .dataframe thead th {\n",
       "        text-align: right;\n",
       "    }\n",
       "</style>\n",
       "<table border=\"1\" class=\"dataframe\">\n",
       "  <thead>\n",
       "    <tr style=\"text-align: right;\">\n",
       "      <th></th>\n",
       "      <th>event</th>\n",
       "      <th>user</th>\n",
       "      <th>timestamp</th>\n",
       "      <th>group</th>\n",
       "      <th>dt</th>\n",
       "      <th>date</th>\n",
       "    </tr>\n",
       "  </thead>\n",
       "  <tbody>\n",
       "    <tr>\n",
       "      <th>0</th>\n",
       "      <td>MainScreenAppear</td>\n",
       "      <td>4575588528974610257</td>\n",
       "      <td>1564029816</td>\n",
       "      <td>246</td>\n",
       "      <td>2019-07-25 04:43:36</td>\n",
       "      <td>2019-07-25</td>\n",
       "    </tr>\n",
       "    <tr>\n",
       "      <th>1</th>\n",
       "      <td>MainScreenAppear</td>\n",
       "      <td>7416695313311560658</td>\n",
       "      <td>1564053102</td>\n",
       "      <td>246</td>\n",
       "      <td>2019-07-25 11:11:42</td>\n",
       "      <td>2019-07-25</td>\n",
       "    </tr>\n",
       "    <tr>\n",
       "      <th>2</th>\n",
       "      <td>PaymentScreenSuccessful</td>\n",
       "      <td>3518123091307005509</td>\n",
       "      <td>1564054127</td>\n",
       "      <td>248</td>\n",
       "      <td>2019-07-25 11:28:47</td>\n",
       "      <td>2019-07-25</td>\n",
       "    </tr>\n",
       "    <tr>\n",
       "      <th>3</th>\n",
       "      <td>CartScreenAppear</td>\n",
       "      <td>3518123091307005509</td>\n",
       "      <td>1564054127</td>\n",
       "      <td>248</td>\n",
       "      <td>2019-07-25 11:28:47</td>\n",
       "      <td>2019-07-25</td>\n",
       "    </tr>\n",
       "    <tr>\n",
       "      <th>4</th>\n",
       "      <td>PaymentScreenSuccessful</td>\n",
       "      <td>6217807653094995999</td>\n",
       "      <td>1564055322</td>\n",
       "      <td>248</td>\n",
       "      <td>2019-07-25 11:48:42</td>\n",
       "      <td>2019-07-25</td>\n",
       "    </tr>\n",
       "  </tbody>\n",
       "</table>\n",
       "</div>"
      ],
      "text/plain": [
       "                     event                 user   timestamp  group  \\\n",
       "0         MainScreenAppear  4575588528974610257  1564029816    246   \n",
       "1         MainScreenAppear  7416695313311560658  1564053102    246   \n",
       "2  PaymentScreenSuccessful  3518123091307005509  1564054127    248   \n",
       "3         CartScreenAppear  3518123091307005509  1564054127    248   \n",
       "4  PaymentScreenSuccessful  6217807653094995999  1564055322    248   \n",
       "\n",
       "                   dt       date  \n",
       "0 2019-07-25 04:43:36 2019-07-25  \n",
       "1 2019-07-25 11:11:42 2019-07-25  \n",
       "2 2019-07-25 11:28:47 2019-07-25  \n",
       "3 2019-07-25 11:28:47 2019-07-25  \n",
       "4 2019-07-25 11:48:42 2019-07-25  "
      ]
     },
     "execution_count": 15,
     "metadata": {},
     "output_type": "execute_result"
    }
   ],
   "source": [
    "logs.head()"
   ]
  },
  {
   "cell_type": "markdown",
   "metadata": {},
   "source": [
    "В ходе предобработки провели следующие манипуляции с данными:\n",
    "\n",
    "- Заменили названия столбцов для удобства обращения к ним;\n",
    "- Проверили пропуски и дубликаты;\n",
    "- Внесли коррективы в типы данных;\n",
    "- Добавили столбец даты и времени и отдельный столбец дат."
   ]
  },
  {
   "cell_type": "markdown",
   "metadata": {},
   "source": [
    "## Исследование данных"
   ]
  },
  {
   "cell_type": "markdown",
   "metadata": {},
   "source": [
    "### Обзор данных"
   ]
  },
  {
   "cell_type": "markdown",
   "metadata": {},
   "source": [
    "Изучим имеющиеся данные"
   ]
  },
  {
   "cell_type": "code",
   "execution_count": 16,
   "metadata": {},
   "outputs": [
    {
     "name": "stdout",
     "output_type": "stream",
     "text": [
      "В логах хранятся записи о 5 типах игровых событий.\n",
      "Всего - 243713 записей\n",
      "\t для 7551 пользователей \n",
      "\t за период с 2019-07-25 04:43:36\n",
      "\t\t по 2019-08-07 21:15:17\n"
     ]
    }
   ],
   "source": [
    "log_len = logs.shape[0]\n",
    "events_unique = logs['event'].nunique()\n",
    "users_unique = logs['user'].nunique()\n",
    "min_date = logs['dt'].min()\n",
    "max_date = logs['dt'].max()\n",
    " \n",
    "print(f'''В логах хранятся записи о {events_unique} типах игровых событий.\n",
    "Всего - {log_len} записей\n",
    "\\t для {users_unique} пользователей \n",
    "\\t за период с {min_date}\n",
    "\\t\\t по {max_date}''')"
   ]
  },
  {
   "cell_type": "markdown",
   "metadata": {},
   "source": [
    "Оценим распределение событий по пользователям."
   ]
  },
  {
   "cell_type": "code",
   "execution_count": 17,
   "metadata": {},
   "outputs": [
    {
     "data": {
      "text/plain": [
       "count    7551.000000\n",
       "mean       32.275593\n",
       "std        65.154219\n",
       "min         1.000000\n",
       "25%         9.000000\n",
       "50%        20.000000\n",
       "75%        37.000000\n",
       "max      2307.000000\n",
       "Name: events, dtype: float64"
      ]
     },
     "execution_count": 17,
     "metadata": {},
     "output_type": "execute_result"
    }
   ],
   "source": [
    "events_per_user = logs.groupby('user', as_index=False).agg(events = ('event', 'count'))\n",
    "events_per_user['events'].describe()"
   ]
  },
  {
   "cell_type": "code",
   "execution_count": 18,
   "metadata": {},
   "outputs": [
    {
     "data": {
      "image/png": "[encoded data removed]",
      "text/plain": [
       "<Figure size 1000x400 with 1 Axes>"
      ]
     },
     "metadata": {},
     "output_type": "display_data"
    }
   ],
   "source": [
    "plt.figure(figsize=(10,4))\n",
    "plt.scatter(events_per_user['user'], events_per_user['events'])\n",
    "plt.title('Количество собитий по каждому пользователю')\n",
    "plt.xlabel('Пользователи')\n",
    "plt.ylabel('Количество событий')\n",
    "plt.show()"
   ]
  },
  {
   "cell_type": "markdown",
   "metadata": {},
   "source": [
    "В среднем на одного пользователя приходится 32 события. Медианное значение количества событий на одного пользователя - 20. Большинство пользователей совершает до 200 действий. Но есть несколько фанатов приложения, совершивших более 1000 действий."
   ]
  },
  {
   "cell_type": "markdown",
   "metadata": {},
   "source": [
    "### Анализ распределения данных по времени"
   ]
  },
  {
   "cell_type": "markdown",
   "metadata": {},
   "source": [
    "Изучим распределение событий в логах по наблюдаемому периоду."
   ]
  },
  {
   "cell_type": "code",
   "execution_count": 19,
   "metadata": {},
   "outputs": [
    {
     "data": {
      "image/png": "[encoded data removed]",
      "text/plain": [
       "<Figure size 1200x300 with 1 Axes>"
      ]
     },
     "metadata": {},
     "output_type": "display_data"
    },
    {
     "data": {
      "image/png": "[encoded data removed]",
      "text/plain": [
       "<Figure size 1200x300 with 1 Axes>"
      ]
     },
     "metadata": {},
     "output_type": "display_data"
    }
   ],
   "source": [
    "logs['dt'].hist(figsize=(12, 3), bins=(14*24), xrot=30)\n",
    "plt.title('Распределение числа событий по датам')\n",
    "plt.xlabel('Дата')\n",
    "plt.ylabel('Количество событий')\n",
    "plt.show()\n",
    "\n",
    "plt.title('Распределение событий в течение суток')\n",
    "logs['dt'].dt.hour.hist(bins=24, figsize=(12, 3))\n",
    "plt.xticks(range(0, 24))\n",
    "plt.xlabel('Час')\n",
    "plt.ylabel('Количество событий')\n",
    "plt.show()"
   ]
  },
  {
   "cell_type": "markdown",
   "metadata": {},
   "source": [
    "По гистограмме видно, как 01.08.2019 резко увеличивается количество записей за каждый день наблюдений. Возможно, это свилетествует о том, что записи до 1 августа - не полные. Так же, мы видим, что основная активность пользователей наблюдается в денвное время."
   ]
  },
  {
   "cell_type": "markdown",
   "metadata": {},
   "source": [
    "Примем 01.08.2019 за начальную дату отсчета, чтобы убрать из логов неполные данные за более ранний период."
   ]
  },
  {
   "cell_type": "code",
   "execution_count": 20,
   "metadata": {},
   "outputs": [],
   "source": [
    "real_min_date = pd.to_datetime('2019-08-01')"
   ]
  },
  {
   "cell_type": "markdown",
   "metadata": {},
   "source": [
    "### Фильтрация данных по времени"
   ]
  },
  {
   "cell_type": "markdown",
   "metadata": {},
   "source": [
    "Проверим, сколько событий будет отброшено фильтром по дате."
   ]
  },
  {
   "cell_type": "code",
   "execution_count": 21,
   "metadata": {},
   "outputs": [],
   "source": [
    "droped_records_count = (logs[logs['date'] < real_min_date]['date'].count(), \n",
    "                  round(logs[logs['date'] < real_min_date]['date'].count()  / logs.shape[0] * 100, 2))"
   ]
  },
  {
   "cell_type": "code",
   "execution_count": 22,
   "metadata": {},
   "outputs": [
    {
     "data": {
      "text/plain": [
       "(2826, 1.16)"
      ]
     },
     "execution_count": 22,
     "metadata": {},
     "output_type": "execute_result"
    }
   ],
   "source": [
    "droped_records_count"
   ]
  },
  {
   "cell_type": "markdown",
   "metadata": {},
   "source": [
    "Будет удалено 2826 записей, что соствляет 1,16% от общего числа записей в логах."
   ]
  },
  {
   "cell_type": "markdown",
   "metadata": {},
   "source": [
    "Проверим, сколько пользователей будет отброшено фильтром по дате."
   ]
  },
  {
   "cell_type": "code",
   "execution_count": 23,
   "metadata": {},
   "outputs": [],
   "source": [
    "droped_users_count = (users_unique - logs[logs['date'] >= real_min_date]['user'].nunique(), \n",
    "                     round((users_unique - logs[logs['date'] >= real_min_date]['user'].nunique()) /\n",
    "                           users_unique * 100, 2))"
   ]
  },
  {
   "cell_type": "code",
   "execution_count": 24,
   "metadata": {},
   "outputs": [
    {
     "data": {
      "text/plain": [
       "(17, 0.23)"
      ]
     },
     "execution_count": 24,
     "metadata": {},
     "output_type": "execute_result"
    }
   ],
   "source": [
    "droped_users_count"
   ]
  },
  {
   "cell_type": "markdown",
   "metadata": {},
   "source": [
    "Будут удалены записи о 17 пользователях, что составит 0,23% от общего числа пользователей."
   ]
  },
  {
   "cell_type": "markdown",
   "metadata": {},
   "source": [
    "Отфильтруем данные, удалив записи до принятой начальной даты."
   ]
  },
  {
   "cell_type": "code",
   "execution_count": 25,
   "metadata": {},
   "outputs": [],
   "source": [
    "logs_filtered = logs[logs['date'] >= real_min_date].reset_index(drop=True)"
   ]
  },
  {
   "cell_type": "code",
   "execution_count": 26,
   "metadata": {},
   "outputs": [
    {
     "name": "stdout",
     "output_type": "stream",
     "text": [
      "<class 'pandas.core.frame.DataFrame'>\n",
      "RangeIndex: 240887 entries, 0 to 240886\n",
      "Data columns (total 6 columns):\n",
      " #   Column     Non-Null Count   Dtype         \n",
      "---  ------     --------------   -----         \n",
      " 0   event      240887 non-null  object        \n",
      " 1   user       240887 non-null  int64         \n",
      " 2   timestamp  240887 non-null  int64         \n",
      " 3   group      240887 non-null  int16         \n",
      " 4   dt         240887 non-null  datetime64[ns]\n",
      " 5   date       240887 non-null  datetime64[ns]\n",
      "dtypes: datetime64[ns](2), int16(1), int64(2), object(1)\n",
      "memory usage: 9.6+ MB\n"
     ]
    }
   ],
   "source": [
    "logs_filtered.info()"
   ]
  },
  {
   "cell_type": "markdown",
   "metadata": {},
   "source": [
    "Изучили распределение событий по пользователям и времени. Ограничили временной промежуток, удалив старые неполные данные."
   ]
  },
  {
   "cell_type": "markdown",
   "metadata": {},
   "source": [
    "### Проверка групп теста"
   ]
  },
  {
   "cell_type": "markdown",
   "metadata": {},
   "source": [
    "Убедимся, что группы теста не пересекаются - разные собития для одних и тех же пользователей не должны попадать в разные группы теста."
   ]
  },
  {
   "cell_type": "code",
   "execution_count": 27,
   "metadata": {},
   "outputs": [],
   "source": [
    "users_246 = pd.DataFrame(logs_filtered[logs_filtered['group'] == 246]['user'].unique(), columns=['user'])\n",
    "users_247 = pd.DataFrame(logs_filtered[logs_filtered['group'] == 247]['user'].unique(), columns=['user'])\n",
    "users_248 = pd.DataFrame(logs_filtered[logs_filtered['group'] == 248]['user'].unique(), columns=['user'])"
   ]
  },
  {
   "cell_type": "code",
   "execution_count": 28,
   "metadata": {},
   "outputs": [
    {
     "name": "stdout",
     "output_type": "stream",
     "text": [
      "Группы не пересекаются.\n"
     ]
    }
   ],
   "source": [
    "if (len(users_246.merge(users_247, on='user')) != 0)\\\n",
    "or (len(users_246.merge(users_248, on='user')) != 0)\\\n",
    "or (len(users_247.merge(users_248, on='user')) != 0):\n",
    "    print('Группы пересекаются.')\n",
    "else:\n",
    "    print('Группы не пересекаются.')"
   ]
  },
  {
   "cell_type": "code",
   "execution_count": 29,
   "metadata": {},
   "outputs": [
    {
     "data": {
      "text/html": [
       "<div>\n",
       "<style scoped>\n",
       "    .dataframe tbody tr th:only-of-type {\n",
       "        vertical-align: middle;\n",
       "    }\n",
       "\n",
       "    .dataframe tbody tr th {\n",
       "        vertical-align: top;\n",
       "    }\n",
       "\n",
       "    .dataframe thead th {\n",
       "        text-align: right;\n",
       "    }\n",
       "</style>\n",
       "<table border=\"1\" class=\"dataframe\">\n",
       "  <thead>\n",
       "    <tr style=\"text-align: right;\">\n",
       "      <th></th>\n",
       "      <th>group</th>\n",
       "    </tr>\n",
       "    <tr>\n",
       "      <th>user</th>\n",
       "      <th></th>\n",
       "    </tr>\n",
       "  </thead>\n",
       "  <tbody>\n",
       "  </tbody>\n",
       "</table>\n",
       "</div>"
      ],
      "text/plain": [
       "Empty DataFrame\n",
       "Columns: [group]\n",
       "Index: []"
      ]
     },
     "execution_count": 29,
     "metadata": {},
     "output_type": "execute_result"
    }
   ],
   "source": [
    "# Альтернативный вариант проверки пересечений\n",
    "(\n",
    "logs_filtered\n",
    "    .groupby('user')\n",
    "    .agg({'group' : 'nunique'})\n",
    "    .query('group>1')\n",
    ")"
   ]
  },
  {
   "cell_type": "markdown",
   "metadata": {},
   "source": [
    "Проверим количество пользователей в группах теста."
   ]
  },
  {
   "cell_type": "code",
   "execution_count": 30,
   "metadata": {},
   "outputs": [],
   "source": [
    "test_groups = dict()\n",
    "\n",
    "for group in logs['group'].unique():\n",
    "    test_groups[group] = logs_filtered[logs_filtered['group'] == group]['user'].nunique()\n",
    "    \n",
    "test_groups = pd.DataFrame(data=test_groups.values(), index=test_groups.keys())\n",
    "test_groups = test_groups.sort_index().reset_index()\n",
    "test_groups.columns = ['group', 'users_cnt']\n",
    "test_groups['users_percent'] = round(test_groups['users_cnt'] / test_groups['users_cnt'].sum() * 100, 2)"
   ]
  },
  {
   "cell_type": "code",
   "execution_count": 31,
   "metadata": {},
   "outputs": [
    {
     "data": {
      "text/html": [
       "<div>\n",
       "<style scoped>\n",
       "    .dataframe tbody tr th:only-of-type {\n",
       "        vertical-align: middle;\n",
       "    }\n",
       "\n",
       "    .dataframe tbody tr th {\n",
       "        vertical-align: top;\n",
       "    }\n",
       "\n",
       "    .dataframe thead th {\n",
       "        text-align: right;\n",
       "    }\n",
       "</style>\n",
       "<table border=\"1\" class=\"dataframe\">\n",
       "  <thead>\n",
       "    <tr style=\"text-align: right;\">\n",
       "      <th></th>\n",
       "      <th>group</th>\n",
       "      <th>users_cnt</th>\n",
       "      <th>users_percent</th>\n",
       "    </tr>\n",
       "  </thead>\n",
       "  <tbody>\n",
       "    <tr>\n",
       "      <th>0</th>\n",
       "      <td>246</td>\n",
       "      <td>2484</td>\n",
       "      <td>32.97</td>\n",
       "    </tr>\n",
       "    <tr>\n",
       "      <th>1</th>\n",
       "      <td>247</td>\n",
       "      <td>2513</td>\n",
       "      <td>33.36</td>\n",
       "    </tr>\n",
       "    <tr>\n",
       "      <th>2</th>\n",
       "      <td>248</td>\n",
       "      <td>2537</td>\n",
       "      <td>33.67</td>\n",
       "    </tr>\n",
       "  </tbody>\n",
       "</table>\n",
       "</div>"
      ],
      "text/plain": [
       "   group  users_cnt  users_percent\n",
       "0    246       2484          32.97\n",
       "1    247       2513          33.36\n",
       "2    248       2537          33.67"
      ]
     },
     "execution_count": 31,
     "metadata": {},
     "output_type": "execute_result"
    }
   ],
   "source": [
    "test_groups"
   ]
  },
  {
   "cell_type": "markdown",
   "metadata": {},
   "source": [
    "Убедились в том, что сохранили данные по всем группам теста. В оставшихся данных имеем в каждой группе около 2500 пользователей. Пользователи разделены почти поровну, но в тестовой группе (248) участников немного больше, чем в контролольных - 2537, или 33,67% от общего числа пользователей."
   ]
  },
  {
   "cell_type": "markdown",
   "metadata": {},
   "source": [
    "## Анализ воронки событий"
   ]
  },
  {
   "cell_type": "markdown",
   "metadata": {},
   "source": [
    "### Обзор событий в логах"
   ]
  },
  {
   "cell_type": "markdown",
   "metadata": {},
   "source": [
    "Изучим, какие события есть в логах и как часто они встречаются, отсортируем их по частоте."
   ]
  },
  {
   "cell_type": "code",
   "execution_count": 32,
   "metadata": {},
   "outputs": [],
   "source": [
    "events = (\n",
    "    logs_filtered.groupby('event')\n",
    "    .agg({'timestamp': 'count'})\n",
    "    .rename(columns={'timestamp': 'event_cnt'})\n",
    "    .sort_values('event_cnt', ascending=False)\n",
    "    .reset_index()\n",
    ")"
   ]
  },
  {
   "cell_type": "code",
   "execution_count": 33,
   "metadata": {},
   "outputs": [
    {
     "data": {
      "text/html": [
       "<div>\n",
       "<style scoped>\n",
       "    .dataframe tbody tr th:only-of-type {\n",
       "        vertical-align: middle;\n",
       "    }\n",
       "\n",
       "    .dataframe tbody tr th {\n",
       "        vertical-align: top;\n",
       "    }\n",
       "\n",
       "    .dataframe thead th {\n",
       "        text-align: right;\n",
       "    }\n",
       "</style>\n",
       "<table border=\"1\" class=\"dataframe\">\n",
       "  <thead>\n",
       "    <tr style=\"text-align: right;\">\n",
       "      <th></th>\n",
       "      <th>event</th>\n",
       "      <th>event_cnt</th>\n",
       "    </tr>\n",
       "  </thead>\n",
       "  <tbody>\n",
       "    <tr>\n",
       "      <th>0</th>\n",
       "      <td>MainScreenAppear</td>\n",
       "      <td>117328</td>\n",
       "    </tr>\n",
       "    <tr>\n",
       "      <th>1</th>\n",
       "      <td>OffersScreenAppear</td>\n",
       "      <td>46333</td>\n",
       "    </tr>\n",
       "    <tr>\n",
       "      <th>2</th>\n",
       "      <td>CartScreenAppear</td>\n",
       "      <td>42303</td>\n",
       "    </tr>\n",
       "    <tr>\n",
       "      <th>3</th>\n",
       "      <td>PaymentScreenSuccessful</td>\n",
       "      <td>33918</td>\n",
       "    </tr>\n",
       "    <tr>\n",
       "      <th>4</th>\n",
       "      <td>Tutorial</td>\n",
       "      <td>1005</td>\n",
       "    </tr>\n",
       "  </tbody>\n",
       "</table>\n",
       "</div>"
      ],
      "text/plain": [
       "                     event  event_cnt\n",
       "0         MainScreenAppear     117328\n",
       "1       OffersScreenAppear      46333\n",
       "2         CartScreenAppear      42303\n",
       "3  PaymentScreenSuccessful      33918\n",
       "4                 Tutorial       1005"
      ]
     },
     "execution_count": 33,
     "metadata": {},
     "output_type": "execute_result"
    }
   ],
   "source": [
    "events"
   ]
  },
  {
   "cell_type": "code",
   "execution_count": 34,
   "metadata": {},
   "outputs": [
    {
     "data": {
      "image/png": "[encoded data removed]",
      "text/plain": [
       "<Figure size 1200x400 with 1 Axes>"
      ]
     },
     "metadata": {},
     "output_type": "display_data"
    }
   ],
   "source": [
    "plt.figure(figsize=(12,4))\n",
    "plt.barh(events['event'], events['event_cnt'])\n",
    "plt.gca().invert_yaxis()\n",
    "plt.title('Количество событий по типам')\n",
    "plt.show()"
   ]
  },
  {
   "cell_type": "markdown",
   "metadata": {},
   "source": [
    "По графику и таблице видим распределение событий по их количеству за изучаемый промежуток времени."
   ]
  },
  {
   "cell_type": "markdown",
   "metadata": {},
   "source": [
    "Посчитаем, сколько пользователей совершали каждое из этих событий. Посчитаем долю пользователей, которые хоть раз совершили каждое из событий. Отсортируем события по числу пользователей. "
   ]
  },
  {
   "cell_type": "code",
   "execution_count": 35,
   "metadata": {},
   "outputs": [],
   "source": [
    "events_funnel = (\n",
    "    logs_filtered.groupby('event')\n",
    "    .agg({'user': 'nunique'})\n",
    "    .rename(columns={'user': 'users_cnt'})\n",
    "    .sort_values('users_cnt', ascending=False)\n",
    "    .reset_index()\n",
    ")"
   ]
  },
  {
   "cell_type": "code",
   "execution_count": 36,
   "metadata": {},
   "outputs": [],
   "source": [
    "events_funnel['users_part'] = round(events_funnel['users_cnt'] / logs_filtered['user'].nunique(), 4)"
   ]
  },
  {
   "cell_type": "code",
   "execution_count": 37,
   "metadata": {},
   "outputs": [
    {
     "data": {
      "text/html": [
       "<div>\n",
       "<style scoped>\n",
       "    .dataframe tbody tr th:only-of-type {\n",
       "        vertical-align: middle;\n",
       "    }\n",
       "\n",
       "    .dataframe tbody tr th {\n",
       "        vertical-align: top;\n",
       "    }\n",
       "\n",
       "    .dataframe thead th {\n",
       "        text-align: right;\n",
       "    }\n",
       "</style>\n",
       "<table border=\"1\" class=\"dataframe\">\n",
       "  <thead>\n",
       "    <tr style=\"text-align: right;\">\n",
       "      <th></th>\n",
       "      <th>event</th>\n",
       "      <th>users_cnt</th>\n",
       "      <th>users_part</th>\n",
       "    </tr>\n",
       "  </thead>\n",
       "  <tbody>\n",
       "    <tr>\n",
       "      <th>0</th>\n",
       "      <td>MainScreenAppear</td>\n",
       "      <td>7419</td>\n",
       "      <td>0.9847</td>\n",
       "    </tr>\n",
       "    <tr>\n",
       "      <th>1</th>\n",
       "      <td>OffersScreenAppear</td>\n",
       "      <td>4593</td>\n",
       "      <td>0.6096</td>\n",
       "    </tr>\n",
       "    <tr>\n",
       "      <th>2</th>\n",
       "      <td>CartScreenAppear</td>\n",
       "      <td>3734</td>\n",
       "      <td>0.4956</td>\n",
       "    </tr>\n",
       "    <tr>\n",
       "      <th>3</th>\n",
       "      <td>PaymentScreenSuccessful</td>\n",
       "      <td>3539</td>\n",
       "      <td>0.4697</td>\n",
       "    </tr>\n",
       "    <tr>\n",
       "      <th>4</th>\n",
       "      <td>Tutorial</td>\n",
       "      <td>840</td>\n",
       "      <td>0.1115</td>\n",
       "    </tr>\n",
       "  </tbody>\n",
       "</table>\n",
       "</div>"
      ],
      "text/plain": [
       "                     event  users_cnt  users_part\n",
       "0         MainScreenAppear       7419      0.9847\n",
       "1       OffersScreenAppear       4593      0.6096\n",
       "2         CartScreenAppear       3734      0.4956\n",
       "3  PaymentScreenSuccessful       3539      0.4697\n",
       "4                 Tutorial        840      0.1115"
      ]
     },
     "execution_count": 37,
     "metadata": {},
     "output_type": "execute_result"
    }
   ],
   "source": [
    "events_funnel"
   ]
  },
  {
   "cell_type": "markdown",
   "metadata": {},
   "source": [
    "По всей видимости, событие `Tutorial` (Учебник) не входит в воронку, так как к нему переходит очень малая доля пользователей (Значит, этот этап не является обязательным при пользовании приложением). В таком случае последовательная цепочка событий в приложении может выглядить так: \n",
    "\n",
    "1. Главный экран (`MainScreenAppear`) -> \n",
    "2. Экран с предложениями (`OffersScreenAppear`) -> \n",
    "3. Экран с корзиной товаров (`CartScreenAppear`) -> \n",
    "4. Экран успешной оплаты (`PaymentScreenSuccessful`)."
   ]
  },
  {
   "cell_type": "markdown",
   "metadata": {},
   "source": [
    "### Построение воронки событий"
   ]
  },
  {
   "cell_type": "markdown",
   "metadata": {},
   "source": [
    "Построим воронку событий приложения по количеству пользователей на каждом этапе."
   ]
  },
  {
   "cell_type": "code",
   "execution_count": 38,
   "metadata": {},
   "outputs": [],
   "source": [
    "events_funnel = events_funnel[events_funnel['event'] != 'Tutorial']"
   ]
  },
  {
   "cell_type": "code",
   "execution_count": 39,
   "metadata": {},
   "outputs": [
    {
     "data": {
      "image/png": "[encoded data removed]",
      "text/plain": [
       "<Figure size 1000x400 with 1 Axes>"
      ]
     },
     "metadata": {},
     "output_type": "display_data"
    }
   ],
   "source": [
    "y = [4,3,2,1]\n",
    "x = events_funnel['users_cnt']\n",
    "labels = events_funnel['event']\n",
    "x_max = 10000\n",
    "x_min = 0\n",
    "x_range = x_max - x_min\n",
    "\n",
    "plt.subplots(1, figsize=(10,4))\n",
    "for idx, val in enumerate(x):\n",
    "    left = (x_range - val)/2\n",
    "    plt.barh(y[idx], x[idx], left = left, height=0.8, color='cyan', edgecolor='black')\n",
    "    # label\n",
    "    plt.text(5000, y[idx]+0.1, labels[idx], ha='center', fontsize=10, color='black')\n",
    "    # value\n",
    "    plt.text(5000, y[idx]-0.2, x[idx], ha='center', fontsize=10, color='black')\n",
    "    \n",
    "plt.xlim(x_min, x_max)\n",
    "plt.axis('off')\n",
    "plt.title('Воронка событий приложения', loc='center', fontsize=16, color='black')\n",
    "plt.show()"
   ]
  },
  {
   "cell_type": "markdown",
   "metadata": {},
   "source": [
    "### Анализ конверсии"
   ]
  },
  {
   "cell_type": "markdown",
   "metadata": {},
   "source": [
    "Посчитаем, какая доля пользователей проходит на каждый последующий шаг воронки относительно предыдущего."
   ]
  },
  {
   "cell_type": "code",
   "execution_count": 40,
   "metadata": {},
   "outputs": [],
   "source": [
    "events_funnel['conversion_step'] = (\n",
    "    events_funnel['users_cnt'].div(events_funnel['users_cnt'].shift(1)).fillna(1).round(4)\n",
    ")\n",
    "\n",
    "events_funnel['conversion_total'] = (\n",
    "    round(events_funnel['users_cnt'] / events_funnel.iloc[0]['users_cnt'], 4)\n",
    ")\n",
    "\n",
    "events_funnel['users_change'] = (\n",
    "    events_funnel['users_cnt'].pct_change().fillna(0).round(4)\n",
    ")"
   ]
  },
  {
   "cell_type": "code",
   "execution_count": 41,
   "metadata": {
    "scrolled": true
   },
   "outputs": [
    {
     "data": {
      "text/html": [
       "<div>\n",
       "<style scoped>\n",
       "    .dataframe tbody tr th:only-of-type {\n",
       "        vertical-align: middle;\n",
       "    }\n",
       "\n",
       "    .dataframe tbody tr th {\n",
       "        vertical-align: top;\n",
       "    }\n",
       "\n",
       "    .dataframe thead th {\n",
       "        text-align: right;\n",
       "    }\n",
       "</style>\n",
       "<table border=\"1\" class=\"dataframe\">\n",
       "  <thead>\n",
       "    <tr style=\"text-align: right;\">\n",
       "      <th></th>\n",
       "      <th>event</th>\n",
       "      <th>users_cnt</th>\n",
       "      <th>users_part</th>\n",
       "      <th>conversion_step</th>\n",
       "      <th>conversion_total</th>\n",
       "      <th>users_change</th>\n",
       "    </tr>\n",
       "  </thead>\n",
       "  <tbody>\n",
       "    <tr>\n",
       "      <th>0</th>\n",
       "      <td>MainScreenAppear</td>\n",
       "      <td>7419</td>\n",
       "      <td>0.9847</td>\n",
       "      <td>1.0000</td>\n",
       "      <td>1.0000</td>\n",
       "      <td>0.0000</td>\n",
       "    </tr>\n",
       "    <tr>\n",
       "      <th>1</th>\n",
       "      <td>OffersScreenAppear</td>\n",
       "      <td>4593</td>\n",
       "      <td>0.6096</td>\n",
       "      <td>0.6191</td>\n",
       "      <td>0.6191</td>\n",
       "      <td>-0.3809</td>\n",
       "    </tr>\n",
       "    <tr>\n",
       "      <th>2</th>\n",
       "      <td>CartScreenAppear</td>\n",
       "      <td>3734</td>\n",
       "      <td>0.4956</td>\n",
       "      <td>0.8130</td>\n",
       "      <td>0.5033</td>\n",
       "      <td>-0.1870</td>\n",
       "    </tr>\n",
       "    <tr>\n",
       "      <th>3</th>\n",
       "      <td>PaymentScreenSuccessful</td>\n",
       "      <td>3539</td>\n",
       "      <td>0.4697</td>\n",
       "      <td>0.9478</td>\n",
       "      <td>0.4770</td>\n",
       "      <td>-0.0522</td>\n",
       "    </tr>\n",
       "  </tbody>\n",
       "</table>\n",
       "</div>"
      ],
      "text/plain": [
       "                     event  users_cnt  users_part  conversion_step  \\\n",
       "0         MainScreenAppear       7419      0.9847           1.0000   \n",
       "1       OffersScreenAppear       4593      0.6096           0.6191   \n",
       "2         CartScreenAppear       3734      0.4956           0.8130   \n",
       "3  PaymentScreenSuccessful       3539      0.4697           0.9478   \n",
       "\n",
       "   conversion_total  users_change  \n",
       "0            1.0000        0.0000  \n",
       "1            0.6191       -0.3809  \n",
       "2            0.5033       -0.1870  \n",
       "3            0.4770       -0.0522  "
      ]
     },
     "execution_count": 41,
     "metadata": {},
     "output_type": "execute_result"
    }
   ],
   "source": [
    "events_funnel"
   ]
  },
  {
   "cell_type": "markdown",
   "metadata": {},
   "source": [
    "Как видно из таблицы, больше всего пользователей теряется на переходе от `MainScreenAppear` к `OffersScreenAppear` - более 38%. Самая лучшая конверсия - из этапа `CartScreenAppear` в этап `PaymentScreenSuccessful` - 94,78%.\n",
    "\n",
    "От первого события до обплаты доходят 46,97% пользователей.\n",
    "\n",
    "Около 1,5% пользователей пропускают этап `MainScreenAppear`.\n",
    "\n",
    "По всей видимости, пользователям нравятся предложения компании, и они готовы совершать покупки. Однако, большинство пользователей отсеивается на этапе перехода с главного экрана к экрану с предложениями. Видимо, с главным экраном имеются какие-то проблемы, усложняющие пользование приложеним."
   ]
  },
  {
   "cell_type": "markdown",
   "metadata": {},
   "source": [
    "## Анализ результатов А/Б-теста"
   ]
  },
  {
   "cell_type": "markdown",
   "metadata": {},
   "source": [
    "### Обзор данных об эксперименте"
   ]
  },
  {
   "cell_type": "markdown",
   "metadata": {},
   "source": [
    "Ранее мы убедились в валидном распределении пользователей и в отсутствии пересечений между группами."
   ]
  },
  {
   "cell_type": "code",
   "execution_count": 42,
   "metadata": {},
   "outputs": [
    {
     "data": {
      "text/html": [
       "<div>\n",
       "<style scoped>\n",
       "    .dataframe tbody tr th:only-of-type {\n",
       "        vertical-align: middle;\n",
       "    }\n",
       "\n",
       "    .dataframe tbody tr th {\n",
       "        vertical-align: top;\n",
       "    }\n",
       "\n",
       "    .dataframe thead th {\n",
       "        text-align: right;\n",
       "    }\n",
       "</style>\n",
       "<table border=\"1\" class=\"dataframe\">\n",
       "  <thead>\n",
       "    <tr style=\"text-align: right;\">\n",
       "      <th></th>\n",
       "      <th>group</th>\n",
       "      <th>users_cnt</th>\n",
       "      <th>users_percent</th>\n",
       "    </tr>\n",
       "  </thead>\n",
       "  <tbody>\n",
       "    <tr>\n",
       "      <th>0</th>\n",
       "      <td>246</td>\n",
       "      <td>2484</td>\n",
       "      <td>32.97</td>\n",
       "    </tr>\n",
       "    <tr>\n",
       "      <th>1</th>\n",
       "      <td>247</td>\n",
       "      <td>2513</td>\n",
       "      <td>33.36</td>\n",
       "    </tr>\n",
       "    <tr>\n",
       "      <th>2</th>\n",
       "      <td>248</td>\n",
       "      <td>2537</td>\n",
       "      <td>33.67</td>\n",
       "    </tr>\n",
       "  </tbody>\n",
       "</table>\n",
       "</div>"
      ],
      "text/plain": [
       "   group  users_cnt  users_percent\n",
       "0    246       2484          32.97\n",
       "1    247       2513          33.36\n",
       "2    248       2537          33.67"
      ]
     },
     "execution_count": 42,
     "metadata": {},
     "output_type": "execute_result"
    }
   ],
   "source": [
    "test_groups"
   ]
  },
  {
   "cell_type": "markdown",
   "metadata": {},
   "source": [
    "Изучем воронку событий в разрезе групп."
   ]
  },
  {
   "cell_type": "code",
   "execution_count": 43,
   "metadata": {},
   "outputs": [],
   "source": [
    "funnel_group = (\n",
    "    logs_filtered[logs_filtered['event'] != 'Tutorial']\n",
    "    .pivot_table(index='event', columns='group', values='user', aggfunc='nunique')\n",
    "    .sort_values(246, ascending=False)\n",
    "    .reset_index()\n",
    ")\n",
    "funnel_group['246_conversion'] = round(funnel_group[246] /\n",
    "                                 logs_filtered[logs_filtered['group'] == 246]['user'].nunique() * 100, 2)\n",
    "funnel_group['247_conversion'] = round(funnel_group[246] /\n",
    "                                 logs_filtered[logs_filtered['group'] == 247]['user'].nunique() * 100, 2)\n",
    "funnel_group['248_conversion'] = round(funnel_group[246] /\n",
    "                                 logs_filtered[logs_filtered['group'] == 248]['user'].nunique() * 100, 2)\n"
   ]
  },
  {
   "cell_type": "code",
   "execution_count": 44,
   "metadata": {},
   "outputs": [
    {
     "data": {
      "text/html": [
       "<div>\n",
       "<style scoped>\n",
       "    .dataframe tbody tr th:only-of-type {\n",
       "        vertical-align: middle;\n",
       "    }\n",
       "\n",
       "    .dataframe tbody tr th {\n",
       "        vertical-align: top;\n",
       "    }\n",
       "\n",
       "    .dataframe thead th {\n",
       "        text-align: right;\n",
       "    }\n",
       "</style>\n",
       "<table border=\"1\" class=\"dataframe\">\n",
       "  <thead>\n",
       "    <tr style=\"text-align: right;\">\n",
       "      <th>group</th>\n",
       "      <th>event</th>\n",
       "      <th>246</th>\n",
       "      <th>247</th>\n",
       "      <th>248</th>\n",
       "      <th>246_conversion</th>\n",
       "      <th>247_conversion</th>\n",
       "      <th>248_conversion</th>\n",
       "    </tr>\n",
       "  </thead>\n",
       "  <tbody>\n",
       "    <tr>\n",
       "      <th>0</th>\n",
       "      <td>MainScreenAppear</td>\n",
       "      <td>2450</td>\n",
       "      <td>2476</td>\n",
       "      <td>2493</td>\n",
       "      <td>98.63</td>\n",
       "      <td>97.49</td>\n",
       "      <td>96.57</td>\n",
       "    </tr>\n",
       "    <tr>\n",
       "      <th>1</th>\n",
       "      <td>OffersScreenAppear</td>\n",
       "      <td>1542</td>\n",
       "      <td>1520</td>\n",
       "      <td>1531</td>\n",
       "      <td>62.08</td>\n",
       "      <td>61.36</td>\n",
       "      <td>60.78</td>\n",
       "    </tr>\n",
       "    <tr>\n",
       "      <th>2</th>\n",
       "      <td>CartScreenAppear</td>\n",
       "      <td>1266</td>\n",
       "      <td>1238</td>\n",
       "      <td>1230</td>\n",
       "      <td>50.97</td>\n",
       "      <td>50.38</td>\n",
       "      <td>49.90</td>\n",
       "    </tr>\n",
       "    <tr>\n",
       "      <th>3</th>\n",
       "      <td>PaymentScreenSuccessful</td>\n",
       "      <td>1200</td>\n",
       "      <td>1158</td>\n",
       "      <td>1181</td>\n",
       "      <td>48.31</td>\n",
       "      <td>47.75</td>\n",
       "      <td>47.30</td>\n",
       "    </tr>\n",
       "  </tbody>\n",
       "</table>\n",
       "</div>"
      ],
      "text/plain": [
       "group                    event   246   247   248  246_conversion  \\\n",
       "0             MainScreenAppear  2450  2476  2493           98.63   \n",
       "1           OffersScreenAppear  1542  1520  1531           62.08   \n",
       "2             CartScreenAppear  1266  1238  1230           50.97   \n",
       "3      PaymentScreenSuccessful  1200  1158  1181           48.31   \n",
       "\n",
       "group  247_conversion  248_conversion  \n",
       "0               97.49           96.57  \n",
       "1               61.36           60.78  \n",
       "2               50.38           49.90  \n",
       "3               47.75           47.30  "
      ]
     },
     "execution_count": 44,
     "metadata": {},
     "output_type": "execute_result"
    }
   ],
   "source": [
    "funnel_group"
   ]
  },
  {
   "cell_type": "markdown",
   "metadata": {},
   "source": [
    "Как видно из таблицы, средние показатели конверсии на всех этапах воронки соизмеримы между группами, но значения в группе 248 немного ниже. Перейдем к рассчету статистической значимости наблюдаемых отличий."
   ]
  },
  {
   "cell_type": "markdown",
   "metadata": {},
   "source": [
    "### Анализ результатов A/B-теста"
   ]
  },
  {
   "cell_type": "markdown",
   "metadata": {},
   "source": [
    "В рассматриваемом тесте будем проверять гипотезу о равенстве пропорций. Для этого применим z-тест.\n",
    "\n",
    "Сначала проведем А/А-тест и убедимся в отсутствии статистически значимых различий между контрольными группами (246 и 247), что позволит нам убедиться в коректности разделения пользователей на группы теста. Затем перейдем к А/Б-тестированию и проверим гипотизу о влиянии изменения шрифта в приложении на конверсию.\n",
    "\n",
    "Предложен следующий порядок проверки равенства долей:\n",
    "1. между контрольными группами (А/А - тест между группами 246 и 247),\n",
    "2. попарно между каждой из контрольных групп и тестовой группой (246 и 248, 247 и 248),\n",
    "3. между объединенной контрольной группой и тестовой группой (246 + 247 и 248).\n",
    "\n",
    "Таким образом будем иметь четыре попарных сравнения. И в каждом из попарных сравнений мы будем проводить по четыре теста (для каждого из этапов воронки). Следовательно для всех тестов введем поправку для критерия значимости с коэффициентом равным 16 (4 шага * 4 попарных сравнения). Применим для расчетов метод Шидака, сохраняющий групповую вероятность ошибки первого рода меньше альфа, но повышающий мощность теста.\n",
    "\n",
    "Обозначим нулевую и альтернативную гипотезы для каждого из попарных сравнений:\n",
    "\n",
    "    Н0: доли посетителей на каждом из этапов воронки между группами теста одинаковы.\n",
    "    Н1: доли посетителей на каждом из этапов воронки между группами теста различаются.\n",
    "    \n",
    "Уровень значимости примем равный 5%"
   ]
  },
  {
   "cell_type": "code",
   "execution_count": 45,
   "metadata": {},
   "outputs": [],
   "source": [
    "alpha = 0.05\n",
    "ratio = 16"
   ]
  },
  {
   "cell_type": "markdown",
   "metadata": {},
   "source": [
    "Для удобства оформим расчеты в виде функции."
   ]
  },
  {
   "cell_type": "code",
   "execution_count": 46,
   "metadata": {},
   "outputs": [],
   "source": [
    "def z_test(sample1, sample2, event, alpha, ratio):\n",
    "\n",
    "    # скорректированный уровень значимости\n",
    "    alpha_corr = 1 - (1 - alpha) ** (1 / ratio)\n",
    "    \n",
    "    # размеры сравниваемых групп\n",
    "    trials = np.array([sample1['user'].nunique(), sample2['user'].nunique()])\n",
    "    # число пользователей, дошедших до события event в каждой из групп\n",
    "    successes = np.array([sample1[sample1['event'] == event]['user'].nunique(),\n",
    "                          sample2[sample2['event'] == event]['user'].nunique()])\n",
    "    \n",
    "    # пропорции успехов в группах\n",
    "    p1 = successes[0] / trials[0]\n",
    "    p2 = successes[1] / trials[1]\n",
    "    # пропорции успехов в комбинированном датасэте\n",
    "    p_comb = (successes[0] + successes[1]) / (trials[0] + trials[1])\n",
    "    # разница пропорций в датасэтах\n",
    "    difference = p1 - p2\n",
    "    \n",
    "    # считаем z-статистику\n",
    "    z_value = difference / mth.sqrt(p_comb * (1 - p_comb) * (1 / trials[0] + 1 / trials[1]))\n",
    "    \n",
    "    # задаем стандартное нормальное распределение (среднее 0, ст.отклонение 1)\n",
    "    distr = st.norm(0, 1)\n",
    "    \n",
    "    p_value = (1 - distr.cdf(abs(z_value))) * 2 # двусторонний тест\n",
    "    print('Событие:', event)\n",
    "    print('p-значение: ', p_value)\n",
    "\n",
    "    if p_value < alpha_corr:\n",
    "        print('Отвергаем нулевую гипотезу: между долями есть значимая разница')\n",
    "    else:\n",
    "        print(\n",
    "            'Не получилось отвергнуть нулевую гипотезу, нет оснований считать доли разными',\n",
    "        )\n",
    "    print()"
   ]
  },
  {
   "cell_type": "markdown",
   "metadata": {},
   "source": [
    "#### А/А-тест"
   ]
  },
  {
   "cell_type": "markdown",
   "metadata": {},
   "source": [
    "Проверим, есть ли статистически значимая разница между группами 246 и 247."
   ]
  },
  {
   "cell_type": "code",
   "execution_count": 47,
   "metadata": {},
   "outputs": [
    {
     "name": "stdout",
     "output_type": "stream",
     "text": [
      "Событие: MainScreenAppear\n",
      "p-значение:  0.7570597232046099\n",
      "Не получилось отвергнуть нулевую гипотезу, нет оснований считать доли разными\n",
      "\n",
      "Событие: OffersScreenAppear\n",
      "p-значение:  0.2480954578522181\n",
      "Не получилось отвергнуть нулевую гипотезу, нет оснований считать доли разными\n",
      "\n",
      "Событие: CartScreenAppear\n",
      "p-значение:  0.22883372237997213\n",
      "Не получилось отвергнуть нулевую гипотезу, нет оснований считать доли разными\n",
      "\n",
      "Событие: PaymentScreenSuccessful\n",
      "p-значение:  0.11456679313141849\n",
      "Не получилось отвергнуть нулевую гипотезу, нет оснований считать доли разными\n",
      "\n"
     ]
    }
   ],
   "source": [
    "for event in funnel_group['event'].unique():\n",
    "    \n",
    "    z_test(\n",
    "        logs_filtered[logs_filtered['group'] == 246], \n",
    "        logs_filtered[logs_filtered['group'] == 247], \n",
    "        event=event, alpha=alpha, ratio=ratio\n",
    "    )"
   ]
  },
  {
   "cell_type": "markdown",
   "metadata": {},
   "source": [
    "А/А-тест указывает на отсутствие между группами статистически значимой разницы долей пользователей на всех этапах воронки. Это указвает на корректность разделения пользователей на группы для теста.\n",
    "\n",
    "Можем приступать к анализу результатов А/Б-теста."
   ]
  },
  {
   "cell_type": "markdown",
   "metadata": {},
   "source": [
    "#### А/B-тест попарно с каждой из контрольных групп"
   ]
  },
  {
   "cell_type": "markdown",
   "metadata": {},
   "source": [
    "Проверим, есть ли статистически значимая разница между группами 246 и 248."
   ]
  },
  {
   "cell_type": "code",
   "execution_count": 48,
   "metadata": {},
   "outputs": [
    {
     "name": "stdout",
     "output_type": "stream",
     "text": [
      "Событие: MainScreenAppear\n",
      "p-значение:  0.2949721933554552\n",
      "Не получилось отвергнуть нулевую гипотезу, нет оснований считать доли разными\n",
      "\n",
      "Событие: OffersScreenAppear\n",
      "p-значение:  0.20836205402738917\n",
      "Не получилось отвергнуть нулевую гипотезу, нет оснований считать доли разными\n",
      "\n",
      "Событие: CartScreenAppear\n",
      "p-значение:  0.07842923237520116\n",
      "Не получилось отвергнуть нулевую гипотезу, нет оснований считать доли разными\n",
      "\n",
      "Событие: PaymentScreenSuccessful\n",
      "p-значение:  0.2122553275697796\n",
      "Не получилось отвергнуть нулевую гипотезу, нет оснований считать доли разными\n",
      "\n"
     ]
    }
   ],
   "source": [
    "for event in funnel_group['event'].unique():\n",
    "    \n",
    "    z_test(\n",
    "        logs_filtered[logs_filtered['group'] == 246], \n",
    "        logs_filtered[logs_filtered['group'] == 248], \n",
    "        event=event, alpha=alpha, ratio=ratio\n",
    "    )"
   ]
  },
  {
   "cell_type": "markdown",
   "metadata": {},
   "source": [
    "При заданном уровне значимости у нас нет основания отвергать нулевую гипотезу. Мы не можем считать группы 246 и 248 отличающимися."
   ]
  },
  {
   "cell_type": "markdown",
   "metadata": {},
   "source": [
    "Проверим, есть ли статистически значимая разница между группами 247 и 248."
   ]
  },
  {
   "cell_type": "code",
   "execution_count": 49,
   "metadata": {},
   "outputs": [
    {
     "name": "stdout",
     "output_type": "stream",
     "text": [
      "Событие: MainScreenAppear\n",
      "p-значение:  0.4587053616621515\n",
      "Не получилось отвергнуть нулевую гипотезу, нет оснований считать доли разными\n",
      "\n",
      "Событие: OffersScreenAppear\n",
      "p-значение:  0.9197817830592261\n",
      "Не получилось отвергнуть нулевую гипотезу, нет оснований считать доли разными\n",
      "\n",
      "Событие: CartScreenAppear\n",
      "p-значение:  0.5786197879539783\n",
      "Не получилось отвергнуть нулевую гипотезу, нет оснований считать доли разными\n",
      "\n",
      "Событие: PaymentScreenSuccessful\n",
      "p-значение:  0.7373415053803964\n",
      "Не получилось отвергнуть нулевую гипотезу, нет оснований считать доли разными\n",
      "\n"
     ]
    }
   ],
   "source": [
    "for event in funnel_group['event'].unique():\n",
    "    \n",
    "    z_test(\n",
    "        logs_filtered[logs_filtered['group'] == 247], \n",
    "        logs_filtered[logs_filtered['group'] == 248], \n",
    "        event=event, alpha=alpha, ratio=ratio\n",
    "    )"
   ]
  },
  {
   "cell_type": "markdown",
   "metadata": {},
   "source": [
    "Статистически значимое различие между группами 246 и 248 также отсутствует. А значения p-valuse указывают на высокую степень случайности в имеющихся различиях долей."
   ]
  },
  {
   "cell_type": "markdown",
   "metadata": {},
   "source": [
    "#### А/B-тест с объединенной контрольной группой"
   ]
  },
  {
   "cell_type": "markdown",
   "metadata": {},
   "source": [
    "Проверим, есть ли статистически значимая разница между Объединенной контрольной группой (246 + 247) и тестовой группой 248."
   ]
  },
  {
   "cell_type": "code",
   "execution_count": 50,
   "metadata": {},
   "outputs": [
    {
     "name": "stdout",
     "output_type": "stream",
     "text": [
      "Событие: MainScreenAppear\n",
      "p-значение:  0.29424526837179577\n",
      "Не получилось отвергнуть нулевую гипотезу, нет оснований считать доли разными\n",
      "\n",
      "Событие: OffersScreenAppear\n",
      "p-значение:  0.43425549655188256\n",
      "Не получилось отвергнуть нулевую гипотезу, нет оснований считать доли разными\n",
      "\n",
      "Событие: CartScreenAppear\n",
      "p-значение:  0.18175875284404386\n",
      "Не получилось отвергнуть нулевую гипотезу, нет оснований считать доли разными\n",
      "\n",
      "Событие: PaymentScreenSuccessful\n",
      "p-значение:  0.6004294282308704\n",
      "Не получилось отвергнуть нулевую гипотезу, нет оснований считать доли разными\n",
      "\n"
     ]
    }
   ],
   "source": [
    "for event in funnel_group['event'].unique():\n",
    "    \n",
    "    z_test(\n",
    "        logs_filtered[logs_filtered['group'] != 248], \n",
    "        logs_filtered[logs_filtered['group'] == 248], \n",
    "        event=event, alpha=alpha, ratio=ratio\n",
    "    )"
   ]
  },
  {
   "cell_type": "markdown",
   "metadata": {},
   "source": [
    "Статистически значимое различие между группами теста также не выявлено.\n",
    "\n",
    "Мы не можем отвергнуть нулевую гипотезу об отстутсвии статистически значимых различий между группами теста. То есть, мы делаем вывод об отсутствии влияния изменений в шрефте на поведение пользователей приложения."
   ]
  },
  {
   "cell_type": "markdown",
   "metadata": {},
   "source": [
    "## Вывод"
   ]
  },
  {
   "cell_type": "markdown",
   "metadata": {},
   "source": [
    "В результате исследования был выполнен анализ поведения пользователей приложения - процесс прохождения воронки продаж . Также был проведен анализ результатов А/А/Б-теста по выявлению статистически значимых различий между группами, которым в приложении показывали различные шрифты.\n",
    "\n",
    "При исследовании данных было установлено, что за первую неделю теста собраны не полные данные. Поэтому было принято решение исключить из дальнейшего анализа данные до 2019-08-01, что составило чуть более 1% от общего количества записей. Дальнейшие исследования проводились по данным за неделю с 2019-08-01 по 2019-08-07.\n",
    "\n",
    "Была построена воронка продаж от стартовой страницы до страницы успешной оплаты покупки. Было выявлено и исключено из последующего анализа событие, не являющееся обязательным этапом в воронке (прохождение туториала). Было посчитано количество пользователей и их доля на каждом этапе воронки.\n",
    "\n",
    "- Главную страницу увидели 7419 пользователей (принято за 100% от общего числа пользователей);\n",
    "- Страницу с товарами просмотрели 4593 пользователей (61,91% от общего числа);\n",
    "- СТраницу с карзиной просмотрели 3734 пользователя (50.33% от общего числа);\n",
    "- Совершили оплату 3539 пользователей (47,7% от общего числа).\n",
    "\n",
    "Наибольшее количество пользователей отсеивалось при переходе с главной странцы к странице с предложениями (более 38%). Успешно становились покупателями 47,7% пользователей.\n",
    "\n",
    "При анализе А/Б-теста было проведено сравнение поведения пользователей, разделенных на три группы: две контрольные и одну экспериментальная. Первичный обзор показал, что пользователи разделены корректно: пересечения между группами отсутствуют, соотношение числа пользователей между группами почти равно:\n",
    "\n",
    "- А1 - 2484 пользователя (32,97%);\n",
    "- А2 - 2513 пользователя (33,36%);\n",
    "- Б - 2537 пользователя (33,67%).\n",
    "\n",
    "Согласно предложенному процессу, нам нужно было проведено четыре попарных сравнения:\n",
    "\n",
    "\n",
    "- между контрольными группами (А/А - тест между группами 246 и 247),\n",
    "- попарно между каждой из контрольных групп и тестовой группой (246 и 248, 247 и 248),\n",
    "- между объединенной контрольной группой и тестовой группой (246 + 247 и 248).\n",
    "\n",
    "Для проведения групповго сравнения была введена поправка Шидака с целью снижения вероятности ложно-положительного исхода тестов. Уровень статистической значимости приняли равным 5%. Обозначили соответствующие нулевую и альтернативную гипотезы для каждого из попарных сравнений:\n",
    "\n",
    "    Н0: доли посетителей на каждом из этапов воронки между группами теста одинаковы.\n",
    "    Н1: доли посетителей на каждом из этапов воронки между группами теста различаются.\n",
    "\n",
    "Все проведенные попарные сравнения не выявили статистически значимых различий между группами. Таким образом, мы можем заключить, что примененные для тестирования в группе Б шрифты не влияют на поведение пользователей."
   ]
  },
  {
   "cell_type": "code",
   "execution_count": null,
   "metadata": {},
   "outputs": [],
   "source": []
  }
 ],
 "metadata": {
  "ExecuteTimeLog": [
   {
    "duration": 1156,
    "start_time": "2022-12-28T19:48:31.330Z"
   },
   {
    "duration": 1132,
    "start_time": "2022-12-28T19:48:32.489Z"
   },
   {
    "duration": 15,
    "start_time": "2022-12-28T19:48:33.623Z"
   },
   {
    "duration": 25,
    "start_time": "2022-12-28T19:48:33.640Z"
   },
   {
    "duration": 4,
    "start_time": "2022-12-28T19:48:33.667Z"
   },
   {
    "duration": 81,
    "start_time": "2022-12-28T19:48:33.673Z"
   },
   {
    "duration": 82,
    "start_time": "2022-12-28T19:48:33.757Z"
   },
   {
    "duration": 19,
    "start_time": "2022-12-28T19:48:33.841Z"
   },
   {
    "duration": 18,
    "start_time": "2022-12-28T19:48:33.862Z"
   },
   {
    "duration": 31,
    "start_time": "2022-12-28T19:48:33.882Z"
   },
   {
    "duration": 6,
    "start_time": "2022-12-28T19:48:33.915Z"
   },
   {
    "duration": 10,
    "start_time": "2022-12-28T19:48:33.923Z"
   },
   {
    "duration": 164,
    "start_time": "2022-12-28T19:48:33.935Z"
   },
   {
    "duration": 23,
    "start_time": "2022-12-28T19:48:34.102Z"
   },
   {
    "duration": 10,
    "start_time": "2022-12-28T19:48:34.126Z"
   },
   {
    "duration": 35,
    "start_time": "2022-12-28T19:48:34.137Z"
   },
   {
    "duration": 64,
    "start_time": "2022-12-28T19:48:34.174Z"
   },
   {
    "duration": 189,
    "start_time": "2022-12-28T19:48:34.241Z"
   },
   {
    "duration": 629,
    "start_time": "2022-12-28T19:48:34.433Z"
   },
   {
    "duration": 3,
    "start_time": "2022-12-28T19:48:35.064Z"
   },
   {
    "duration": 17,
    "start_time": "2022-12-28T19:48:35.069Z"
   },
   {
    "duration": 8,
    "start_time": "2022-12-28T19:48:35.088Z"
   },
   {
    "duration": 36,
    "start_time": "2022-12-28T19:48:35.098Z"
   },
   {
    "duration": 4,
    "start_time": "2022-12-28T19:48:35.136Z"
   },
   {
    "duration": 19,
    "start_time": "2022-12-28T19:48:35.142Z"
   },
   {
    "duration": 19,
    "start_time": "2022-12-28T19:48:35.163Z"
   },
   {
    "duration": 45,
    "start_time": "2022-12-28T19:48:35.184Z"
   },
   {
    "duration": 12,
    "start_time": "2022-12-28T19:48:35.230Z"
   },
   {
    "duration": 24,
    "start_time": "2022-12-28T19:48:35.244Z"
   },
   {
    "duration": 8,
    "start_time": "2022-12-28T19:48:35.271Z"
   },
   {
    "duration": 42,
    "start_time": "2022-12-28T19:48:35.287Z"
   },
   {
    "duration": 5,
    "start_time": "2022-12-28T19:48:35.331Z"
   },
   {
    "duration": 140,
    "start_time": "2022-12-28T19:48:35.338Z"
   },
   {
    "duration": 63,
    "start_time": "2022-12-28T19:48:35.480Z"
   },
   {
    "duration": 7,
    "start_time": "2022-12-28T19:48:35.544Z"
   },
   {
    "duration": 8,
    "start_time": "2022-12-28T19:48:35.553Z"
   },
   {
    "duration": 5,
    "start_time": "2022-12-28T19:48:35.563Z"
   },
   {
    "duration": 114,
    "start_time": "2022-12-28T19:48:35.570Z"
   },
   {
    "duration": 8,
    "start_time": "2022-12-28T19:48:35.685Z"
   },
   {
    "duration": 27,
    "start_time": "2022-12-28T19:48:35.696Z"
   },
   {
    "duration": 10,
    "start_time": "2022-12-28T19:48:35.727Z"
   },
   {
    "duration": 133,
    "start_time": "2022-12-28T19:48:35.739Z"
   },
   {
    "duration": 9,
    "start_time": "2022-12-28T19:48:35.874Z"
   },
   {
    "duration": 6,
    "start_time": "2022-12-28T19:48:35.885Z"
   },
   {
    "duration": 7,
    "start_time": "2022-12-28T19:48:35.892Z"
   },
   {
    "duration": 105,
    "start_time": "2022-12-28T19:48:35.913Z"
   },
   {
    "duration": 130,
    "start_time": "2022-12-28T19:48:36.019Z"
   },
   {
    "duration": 100,
    "start_time": "2022-12-28T19:48:36.151Z"
   },
   {
    "duration": 166,
    "start_time": "2022-12-28T19:48:36.253Z"
   },
   {
    "duration": 1352,
    "start_time": "2022-12-29T07:25:19.478Z"
   },
   {
    "duration": 821,
    "start_time": "2022-12-29T07:25:20.832Z"
   },
   {
    "duration": 12,
    "start_time": "2022-12-29T07:25:21.655Z"
   },
   {
    "duration": 33,
    "start_time": "2022-12-29T07:25:21.670Z"
   },
   {
    "duration": 4,
    "start_time": "2022-12-29T07:25:21.705Z"
   },
   {
    "duration": 90,
    "start_time": "2022-12-29T07:25:21.711Z"
   },
   {
    "duration": 84,
    "start_time": "2022-12-29T07:25:21.803Z"
   },
   {
    "duration": 21,
    "start_time": "2022-12-29T07:25:21.889Z"
   },
   {
    "duration": 20,
    "start_time": "2022-12-29T07:25:21.912Z"
   },
   {
    "duration": 6,
    "start_time": "2022-12-29T07:25:21.953Z"
   },
   {
    "duration": 5,
    "start_time": "2022-12-29T07:25:21.961Z"
   },
   {
    "duration": 12,
    "start_time": "2022-12-29T07:25:21.968Z"
   },
   {
    "duration": 138,
    "start_time": "2022-12-29T07:25:21.982Z"
   },
   {
    "duration": 30,
    "start_time": "2022-12-29T07:25:22.121Z"
   },
   {
    "duration": 10,
    "start_time": "2022-12-29T07:25:22.153Z"
   },
   {
    "duration": 61,
    "start_time": "2022-12-29T07:25:22.165Z"
   },
   {
    "duration": 63,
    "start_time": "2022-12-29T07:25:22.228Z"
   },
   {
    "duration": 177,
    "start_time": "2022-12-29T07:25:22.293Z"
   },
   {
    "duration": 682,
    "start_time": "2022-12-29T07:25:22.471Z"
   },
   {
    "duration": 3,
    "start_time": "2022-12-29T07:25:23.156Z"
   },
   {
    "duration": 15,
    "start_time": "2022-12-29T07:25:23.161Z"
   },
   {
    "duration": 11,
    "start_time": "2022-12-29T07:25:23.179Z"
   },
   {
    "duration": 57,
    "start_time": "2022-12-29T07:25:23.194Z"
   },
   {
    "duration": 5,
    "start_time": "2022-12-29T07:25:23.253Z"
   },
   {
    "duration": 28,
    "start_time": "2022-12-29T07:25:23.259Z"
   },
   {
    "duration": 29,
    "start_time": "2022-12-29T07:25:23.289Z"
   },
   {
    "duration": 49,
    "start_time": "2022-12-29T07:25:23.320Z"
   },
   {
    "duration": 15,
    "start_time": "2022-12-29T07:25:23.374Z"
   },
   {
    "duration": 30,
    "start_time": "2022-12-29T07:25:23.392Z"
   },
   {
    "duration": 29,
    "start_time": "2022-12-29T07:25:23.424Z"
   },
   {
    "duration": 34,
    "start_time": "2022-12-29T07:25:23.455Z"
   },
   {
    "duration": 14,
    "start_time": "2022-12-29T07:25:23.491Z"
   },
   {
    "duration": 158,
    "start_time": "2022-12-29T07:25:23.507Z"
   },
   {
    "duration": 56,
    "start_time": "2022-12-29T07:25:23.668Z"
   },
   {
    "duration": 25,
    "start_time": "2022-12-29T07:25:23.726Z"
   },
   {
    "duration": 8,
    "start_time": "2022-12-29T07:25:23.753Z"
   },
   {
    "duration": 6,
    "start_time": "2022-12-29T07:25:23.763Z"
   },
   {
    "duration": 120,
    "start_time": "2022-12-29T07:25:23.770Z"
   },
   {
    "duration": 8,
    "start_time": "2022-12-29T07:25:23.892Z"
   },
   {
    "duration": 24,
    "start_time": "2022-12-29T07:25:23.902Z"
   },
   {
    "duration": 15,
    "start_time": "2022-12-29T07:25:23.927Z"
   },
   {
    "duration": 148,
    "start_time": "2022-12-29T07:25:23.950Z"
   },
   {
    "duration": 11,
    "start_time": "2022-12-29T07:25:24.100Z"
   },
   {
    "duration": 12,
    "start_time": "2022-12-29T07:25:24.113Z"
   },
   {
    "duration": 9,
    "start_time": "2022-12-29T07:25:24.128Z"
   },
   {
    "duration": 149,
    "start_time": "2022-12-29T07:25:24.139Z"
   },
   {
    "duration": 137,
    "start_time": "2022-12-29T07:25:24.290Z"
   },
   {
    "duration": 132,
    "start_time": "2022-12-29T07:25:24.429Z"
   },
   {
    "duration": 176,
    "start_time": "2022-12-29T07:25:24.563Z"
   },
   {
    "duration": 1122,
    "start_time": "2022-12-29T07:25:56.687Z"
   },
   {
    "duration": 282,
    "start_time": "2022-12-29T07:25:57.811Z"
   },
   {
    "duration": 14,
    "start_time": "2022-12-29T07:25:58.095Z"
   },
   {
    "duration": 48,
    "start_time": "2022-12-29T07:25:58.111Z"
   },
   {
    "duration": 4,
    "start_time": "2022-12-29T07:25:58.161Z"
   },
   {
    "duration": 186,
    "start_time": "2022-12-29T07:25:58.167Z"
   },
   {
    "duration": 79,
    "start_time": "2022-12-29T07:25:58.355Z"
   },
   {
    "duration": 27,
    "start_time": "2022-12-29T07:25:58.437Z"
   },
   {
    "duration": 20,
    "start_time": "2022-12-29T07:25:58.465Z"
   },
   {
    "duration": 6,
    "start_time": "2022-12-29T07:25:58.488Z"
   },
   {
    "duration": 7,
    "start_time": "2022-12-29T07:25:58.495Z"
   },
   {
    "duration": 47,
    "start_time": "2022-12-29T07:25:58.504Z"
   },
   {
    "duration": 124,
    "start_time": "2022-12-29T07:25:58.553Z"
   },
   {
    "duration": 24,
    "start_time": "2022-12-29T07:25:58.678Z"
   },
   {
    "duration": 10,
    "start_time": "2022-12-29T07:25:58.704Z"
   },
   {
    "duration": 61,
    "start_time": "2022-12-29T07:25:58.715Z"
   },
   {
    "duration": 30,
    "start_time": "2022-12-29T07:25:58.778Z"
   },
   {
    "duration": 177,
    "start_time": "2022-12-29T07:25:58.810Z"
   },
   {
    "duration": 1113,
    "start_time": "2022-12-29T07:25:58.988Z"
   },
   {
    "duration": 3,
    "start_time": "2022-12-29T07:26:00.103Z"
   },
   {
    "duration": 27,
    "start_time": "2022-12-29T07:26:00.109Z"
   },
   {
    "duration": 36,
    "start_time": "2022-12-29T07:26:00.138Z"
   },
   {
    "duration": 73,
    "start_time": "2022-12-29T07:26:00.176Z"
   },
   {
    "duration": 7,
    "start_time": "2022-12-29T07:26:00.252Z"
   },
   {
    "duration": 53,
    "start_time": "2022-12-29T07:26:00.261Z"
   },
   {
    "duration": 40,
    "start_time": "2022-12-29T07:26:00.316Z"
   },
   {
    "duration": 34,
    "start_time": "2022-12-29T07:26:00.359Z"
   },
   {
    "duration": 43,
    "start_time": "2022-12-29T07:26:00.398Z"
   },
   {
    "duration": 70,
    "start_time": "2022-12-29T07:26:00.443Z"
   },
   {
    "duration": 52,
    "start_time": "2022-12-29T07:26:00.515Z"
   },
   {
    "duration": 51,
    "start_time": "2022-12-29T07:26:00.569Z"
   },
   {
    "duration": 47,
    "start_time": "2022-12-29T07:26:00.622Z"
   },
   {
    "duration": 186,
    "start_time": "2022-12-29T07:26:00.671Z"
   },
   {
    "duration": 57,
    "start_time": "2022-12-29T07:26:00.859Z"
   },
   {
    "duration": 56,
    "start_time": "2022-12-29T07:26:00.917Z"
   },
   {
    "duration": 64,
    "start_time": "2022-12-29T07:26:00.974Z"
   },
   {
    "duration": 37,
    "start_time": "2022-12-29T07:26:01.041Z"
   },
   {
    "duration": 151,
    "start_time": "2022-12-29T07:26:01.080Z"
   },
   {
    "duration": 18,
    "start_time": "2022-12-29T07:26:01.233Z"
   },
   {
    "duration": 71,
    "start_time": "2022-12-29T07:26:01.252Z"
   },
   {
    "duration": 69,
    "start_time": "2022-12-29T07:26:01.326Z"
   },
   {
    "duration": 268,
    "start_time": "2022-12-29T07:26:01.397Z"
   },
   {
    "duration": 11,
    "start_time": "2022-12-29T07:26:01.667Z"
   },
   {
    "duration": 57,
    "start_time": "2022-12-29T07:26:01.680Z"
   },
   {
    "duration": 58,
    "start_time": "2022-12-29T07:26:01.739Z"
   },
   {
    "duration": 193,
    "start_time": "2022-12-29T07:26:01.799Z"
   },
   {
    "duration": 137,
    "start_time": "2022-12-29T07:26:01.994Z"
   },
   {
    "duration": 137,
    "start_time": "2022-12-29T07:26:02.133Z"
   },
   {
    "duration": 182,
    "start_time": "2022-12-29T07:26:02.272Z"
   }
  ],
  "kernelspec": {
   "display_name": "Python 3 (ipykernel)",
   "language": "python",
   "name": "python3"
  },
  "language_info": {
   "codemirror_mode": {
    "name": "ipython",
    "version": 3
   },
   "file_extension": ".py",
   "mimetype": "text/x-python",
   "name": "python",
   "nbconvert_exporter": "python",
   "pygments_lexer": "ipython3",
   "version": "3.9.15"
  },
  "toc": {
   "base_numbering": 1,
   "nav_menu": {
    "height": "367px",
    "width": "367px"
   },
   "number_sections": false,
   "sideBar": true,
   "skip_h1_title": false,
   "title_cell": "Table of Contents",
   "title_sidebar": "Contents",
   "toc_cell": false,
   "toc_position": {
    "height": "calc(100% - 180px)",
    "left": "10px",
    "top": "150px",
    "width": "213.391px"
   },
   "toc_section_display": true,
   "toc_window_display": true
  }
 },
 "nbformat": 4,
 "nbformat_minor": 2
}
