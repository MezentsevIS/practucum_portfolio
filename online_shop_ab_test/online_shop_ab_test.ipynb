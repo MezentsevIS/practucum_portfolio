{
 "cells": [
  {
   "cell_type": "markdown",
   "metadata": {},
   "source": [
    "# Приоритизация гипотез и анализ результатов A/B теста"
   ]
  },
  {
   "cell_type": "markdown",
   "metadata": {},
   "source": [
    "Совместно с отделом маркетинга интернет-магазина был подготовлен список гипотез для увеличения выручки."
   ]
  },
  {
   "cell_type": "markdown",
   "metadata": {},
   "source": [
    "## Задачи проекта\n",
    "\n",
    "1. Приоритизация гипотез фреймворками ICE и RICE для выбора первоочередных.\n",
    "2. Анализ результатов проведенного A/B-теста с целью определения наличия или отсутствия статистической значимости в изменениях метрик для проверяемой в ходе теста гипотезы."
   ]
  },
  {
   "cell_type": "markdown",
   "metadata": {},
   "source": [
    "## Часть 1. Приоритизация гипотез"
   ]
  },
  {
   "cell_type": "markdown",
   "metadata": {},
   "source": [
    "### Знакомство с данными"
   ]
  },
  {
   "cell_type": "markdown",
   "metadata": {},
   "source": [
    "Подключим необходимые для работы библиотеки, считаем данные, изучим их."
   ]
  },
  {
   "cell_type": "code",
   "execution_count": 1,
   "metadata": {},
   "outputs": [],
   "source": [
    "import pandas as pd\n",
    "import datetime as dt"
   ]
  },
  {
   "cell_type": "code",
   "execution_count": 2,
   "metadata": {},
   "outputs": [],
   "source": [
    "try:\n",
    "    hypothesis = pd.read_csv('/datasets/hypothesis.csv')\n",
    "except:\n",
    "    hypothesis = pd.read_csv('datasets/hypothesis.csv')"
   ]
  },
  {
   "cell_type": "code",
   "execution_count": 3,
   "metadata": {},
   "outputs": [
    {
     "data": {
      "text/html": [
       "<div>\n",
       "<style scoped>\n",
       "    .dataframe tbody tr th:only-of-type {\n",
       "        vertical-align: middle;\n",
       "    }\n",
       "\n",
       "    .dataframe tbody tr th {\n",
       "        vertical-align: top;\n",
       "    }\n",
       "\n",
       "    .dataframe thead th {\n",
       "        text-align: right;\n",
       "    }\n",
       "</style>\n",
       "<table border=\"1\" class=\"dataframe\">\n",
       "  <thead>\n",
       "    <tr style=\"text-align: right;\">\n",
       "      <th></th>\n",
       "      <th>Hypothesis</th>\n",
       "      <th>Reach</th>\n",
       "      <th>Impact</th>\n",
       "      <th>Confidence</th>\n",
       "      <th>Efforts</th>\n",
       "    </tr>\n",
       "  </thead>\n",
       "  <tbody>\n",
       "    <tr>\n",
       "      <th>0</th>\n",
       "      <td>Добавить два новых канала привлечения трафика,...</td>\n",
       "      <td>3</td>\n",
       "      <td>10</td>\n",
       "      <td>8</td>\n",
       "      <td>6</td>\n",
       "    </tr>\n",
       "    <tr>\n",
       "      <th>1</th>\n",
       "      <td>Запустить собственную службу доставки, что сок...</td>\n",
       "      <td>2</td>\n",
       "      <td>5</td>\n",
       "      <td>4</td>\n",
       "      <td>10</td>\n",
       "    </tr>\n",
       "    <tr>\n",
       "      <th>2</th>\n",
       "      <td>Добавить блоки рекомендаций товаров на сайт ин...</td>\n",
       "      <td>8</td>\n",
       "      <td>3</td>\n",
       "      <td>7</td>\n",
       "      <td>3</td>\n",
       "    </tr>\n",
       "    <tr>\n",
       "      <th>3</th>\n",
       "      <td>Изменить структура категорий, что увеличит кон...</td>\n",
       "      <td>8</td>\n",
       "      <td>3</td>\n",
       "      <td>3</td>\n",
       "      <td>8</td>\n",
       "    </tr>\n",
       "    <tr>\n",
       "      <th>4</th>\n",
       "      <td>Изменить цвет фона главной страницы, чтобы уве...</td>\n",
       "      <td>3</td>\n",
       "      <td>1</td>\n",
       "      <td>1</td>\n",
       "      <td>1</td>\n",
       "    </tr>\n",
       "    <tr>\n",
       "      <th>5</th>\n",
       "      <td>Добавить страницу отзывов клиентов о магазине,...</td>\n",
       "      <td>3</td>\n",
       "      <td>2</td>\n",
       "      <td>2</td>\n",
       "      <td>3</td>\n",
       "    </tr>\n",
       "    <tr>\n",
       "      <th>6</th>\n",
       "      <td>Показать на главной странице баннеры с актуаль...</td>\n",
       "      <td>5</td>\n",
       "      <td>3</td>\n",
       "      <td>8</td>\n",
       "      <td>3</td>\n",
       "    </tr>\n",
       "    <tr>\n",
       "      <th>7</th>\n",
       "      <td>Добавить форму подписки на все основные страни...</td>\n",
       "      <td>10</td>\n",
       "      <td>7</td>\n",
       "      <td>8</td>\n",
       "      <td>5</td>\n",
       "    </tr>\n",
       "    <tr>\n",
       "      <th>8</th>\n",
       "      <td>Запустить акцию, дающую скидку на товар в день...</td>\n",
       "      <td>1</td>\n",
       "      <td>9</td>\n",
       "      <td>9</td>\n",
       "      <td>5</td>\n",
       "    </tr>\n",
       "  </tbody>\n",
       "</table>\n",
       "</div>"
      ],
      "text/plain": [
       "                                          Hypothesis  Reach  Impact  \\\n",
       "0  Добавить два новых канала привлечения трафика,...      3      10   \n",
       "1  Запустить собственную службу доставки, что сок...      2       5   \n",
       "2  Добавить блоки рекомендаций товаров на сайт ин...      8       3   \n",
       "3  Изменить структура категорий, что увеличит кон...      8       3   \n",
       "4  Изменить цвет фона главной страницы, чтобы уве...      3       1   \n",
       "5  Добавить страницу отзывов клиентов о магазине,...      3       2   \n",
       "6  Показать на главной странице баннеры с актуаль...      5       3   \n",
       "7  Добавить форму подписки на все основные страни...     10       7   \n",
       "8  Запустить акцию, дающую скидку на товар в день...      1       9   \n",
       "\n",
       "   Confidence  Efforts  \n",
       "0           8        6  \n",
       "1           4       10  \n",
       "2           7        3  \n",
       "3           3        8  \n",
       "4           1        1  \n",
       "5           2        3  \n",
       "6           8        3  \n",
       "7           8        5  \n",
       "8           9        5  "
      ]
     },
     "execution_count": 3,
     "metadata": {},
     "output_type": "execute_result"
    }
   ],
   "source": [
    "hypothesis"
   ]
  },
  {
   "cell_type": "markdown",
   "metadata": {},
   "source": [
    "В файле представлены девять гипотез по увеличению выручки. Отдел маркетинга уже оценил параметры их проведения: Reach, Impact, Confidence, Effort (охват аудитории, степень влияния, уверенность в гипотезе, трудозатраты на ее проверку).\n",
    "\n",
    "Нам остается только применить фреймворки ICE и RICE для выбора наиболее приоритетных гипотез для проверки."
   ]
  },
  {
   "cell_type": "markdown",
   "metadata": {},
   "source": [
    "### Приоритизация по ICE\n",
    "\n",
    "Применим фреймворк ICE для приоритизации гипотез. Отсортируем их по убыванию приоритета."
   ]
  },
  {
   "cell_type": "code",
   "execution_count": 4,
   "metadata": {},
   "outputs": [
    {
     "data": {
      "text/html": [
       "<div>\n",
       "<style scoped>\n",
       "    .dataframe tbody tr th:only-of-type {\n",
       "        vertical-align: middle;\n",
       "    }\n",
       "\n",
       "    .dataframe tbody tr th {\n",
       "        vertical-align: top;\n",
       "    }\n",
       "\n",
       "    .dataframe thead th {\n",
       "        text-align: right;\n",
       "    }\n",
       "</style>\n",
       "<table border=\"1\" class=\"dataframe\">\n",
       "  <thead>\n",
       "    <tr style=\"text-align: right;\">\n",
       "      <th></th>\n",
       "      <th>Hypothesis</th>\n",
       "      <th>Reach</th>\n",
       "      <th>Impact</th>\n",
       "      <th>Confidence</th>\n",
       "      <th>Efforts</th>\n",
       "      <th>ICE</th>\n",
       "    </tr>\n",
       "  </thead>\n",
       "  <tbody>\n",
       "    <tr>\n",
       "      <th>8</th>\n",
       "      <td>Запустить акцию, дающую скидку на товар в день...</td>\n",
       "      <td>1</td>\n",
       "      <td>9</td>\n",
       "      <td>9</td>\n",
       "      <td>5</td>\n",
       "      <td>16.20</td>\n",
       "    </tr>\n",
       "    <tr>\n",
       "      <th>0</th>\n",
       "      <td>Добавить два новых канала привлечения трафика,...</td>\n",
       "      <td>3</td>\n",
       "      <td>10</td>\n",
       "      <td>8</td>\n",
       "      <td>6</td>\n",
       "      <td>13.33</td>\n",
       "    </tr>\n",
       "    <tr>\n",
       "      <th>7</th>\n",
       "      <td>Добавить форму подписки на все основные страни...</td>\n",
       "      <td>10</td>\n",
       "      <td>7</td>\n",
       "      <td>8</td>\n",
       "      <td>5</td>\n",
       "      <td>11.20</td>\n",
       "    </tr>\n",
       "    <tr>\n",
       "      <th>6</th>\n",
       "      <td>Показать на главной странице баннеры с актуаль...</td>\n",
       "      <td>5</td>\n",
       "      <td>3</td>\n",
       "      <td>8</td>\n",
       "      <td>3</td>\n",
       "      <td>8.00</td>\n",
       "    </tr>\n",
       "    <tr>\n",
       "      <th>2</th>\n",
       "      <td>Добавить блоки рекомендаций товаров на сайт ин...</td>\n",
       "      <td>8</td>\n",
       "      <td>3</td>\n",
       "      <td>7</td>\n",
       "      <td>3</td>\n",
       "      <td>7.00</td>\n",
       "    </tr>\n",
       "    <tr>\n",
       "      <th>1</th>\n",
       "      <td>Запустить собственную службу доставки, что сок...</td>\n",
       "      <td>2</td>\n",
       "      <td>5</td>\n",
       "      <td>4</td>\n",
       "      <td>10</td>\n",
       "      <td>2.00</td>\n",
       "    </tr>\n",
       "    <tr>\n",
       "      <th>5</th>\n",
       "      <td>Добавить страницу отзывов клиентов о магазине,...</td>\n",
       "      <td>3</td>\n",
       "      <td>2</td>\n",
       "      <td>2</td>\n",
       "      <td>3</td>\n",
       "      <td>1.33</td>\n",
       "    </tr>\n",
       "    <tr>\n",
       "      <th>3</th>\n",
       "      <td>Изменить структура категорий, что увеличит кон...</td>\n",
       "      <td>8</td>\n",
       "      <td>3</td>\n",
       "      <td>3</td>\n",
       "      <td>8</td>\n",
       "      <td>1.12</td>\n",
       "    </tr>\n",
       "    <tr>\n",
       "      <th>4</th>\n",
       "      <td>Изменить цвет фона главной страницы, чтобы уве...</td>\n",
       "      <td>3</td>\n",
       "      <td>1</td>\n",
       "      <td>1</td>\n",
       "      <td>1</td>\n",
       "      <td>1.00</td>\n",
       "    </tr>\n",
       "  </tbody>\n",
       "</table>\n",
       "</div>"
      ],
      "text/plain": [
       "                                          Hypothesis  Reach  Impact  \\\n",
       "8  Запустить акцию, дающую скидку на товар в день...      1       9   \n",
       "0  Добавить два новых канала привлечения трафика,...      3      10   \n",
       "7  Добавить форму подписки на все основные страни...     10       7   \n",
       "6  Показать на главной странице баннеры с актуаль...      5       3   \n",
       "2  Добавить блоки рекомендаций товаров на сайт ин...      8       3   \n",
       "1  Запустить собственную службу доставки, что сок...      2       5   \n",
       "5  Добавить страницу отзывов клиентов о магазине,...      3       2   \n",
       "3  Изменить структура категорий, что увеличит кон...      8       3   \n",
       "4  Изменить цвет фона главной страницы, чтобы уве...      3       1   \n",
       "\n",
       "   Confidence  Efforts    ICE  \n",
       "8           9        5  16.20  \n",
       "0           8        6  13.33  \n",
       "7           8        5  11.20  \n",
       "6           8        3   8.00  \n",
       "2           7        3   7.00  \n",
       "1           4       10   2.00  \n",
       "5           2        3   1.33  \n",
       "3           3        8   1.12  \n",
       "4           1        1   1.00  "
      ]
     },
     "execution_count": 4,
     "metadata": {},
     "output_type": "execute_result"
    }
   ],
   "source": [
    "hypothesis['ICE'] = round(hypothesis['Impact'] * hypothesis['Confidence'] / hypothesis['Efforts'], 2)\n",
    "\n",
    "hypothesis.sort_values('ICE', ascending = False)"
   ]
  },
  {
   "cell_type": "markdown",
   "metadata": {},
   "source": [
    "Наивысший приоритет получила гипотеза **№8** ввиду того, что маркетологи высоко оценили свою уверенность в этой гипотезе и ее влияние на аудиторию и поставили довольно низкую оценку критерию трудозатрат на ее проверку.\n",
    "\n",
    "Следом идут гипотезы №№ **0** и **7**."
   ]
  },
  {
   "cell_type": "markdown",
   "metadata": {},
   "source": [
    "### Приоритизация по RICE\n",
    "\n",
    "Применим фреймворк RICE для приоритизации гипотез. Отсортируем их по убыванию приоритета."
   ]
  },
  {
   "cell_type": "code",
   "execution_count": 5,
   "metadata": {},
   "outputs": [
    {
     "data": {
      "text/html": [
       "<div>\n",
       "<style scoped>\n",
       "    .dataframe tbody tr th:only-of-type {\n",
       "        vertical-align: middle;\n",
       "    }\n",
       "\n",
       "    .dataframe tbody tr th {\n",
       "        vertical-align: top;\n",
       "    }\n",
       "\n",
       "    .dataframe thead th {\n",
       "        text-align: right;\n",
       "    }\n",
       "</style>\n",
       "<table border=\"1\" class=\"dataframe\">\n",
       "  <thead>\n",
       "    <tr style=\"text-align: right;\">\n",
       "      <th></th>\n",
       "      <th>Hypothesis</th>\n",
       "      <th>Reach</th>\n",
       "      <th>Impact</th>\n",
       "      <th>Confidence</th>\n",
       "      <th>Efforts</th>\n",
       "      <th>ICE</th>\n",
       "      <th>RICE</th>\n",
       "    </tr>\n",
       "  </thead>\n",
       "  <tbody>\n",
       "    <tr>\n",
       "      <th>7</th>\n",
       "      <td>Добавить форму подписки на все основные страни...</td>\n",
       "      <td>10</td>\n",
       "      <td>7</td>\n",
       "      <td>8</td>\n",
       "      <td>5</td>\n",
       "      <td>11.20</td>\n",
       "      <td>112.0</td>\n",
       "    </tr>\n",
       "    <tr>\n",
       "      <th>2</th>\n",
       "      <td>Добавить блоки рекомендаций товаров на сайт ин...</td>\n",
       "      <td>8</td>\n",
       "      <td>3</td>\n",
       "      <td>7</td>\n",
       "      <td>3</td>\n",
       "      <td>7.00</td>\n",
       "      <td>56.0</td>\n",
       "    </tr>\n",
       "    <tr>\n",
       "      <th>0</th>\n",
       "      <td>Добавить два новых канала привлечения трафика,...</td>\n",
       "      <td>3</td>\n",
       "      <td>10</td>\n",
       "      <td>8</td>\n",
       "      <td>6</td>\n",
       "      <td>13.33</td>\n",
       "      <td>40.0</td>\n",
       "    </tr>\n",
       "    <tr>\n",
       "      <th>6</th>\n",
       "      <td>Показать на главной странице баннеры с актуаль...</td>\n",
       "      <td>5</td>\n",
       "      <td>3</td>\n",
       "      <td>8</td>\n",
       "      <td>3</td>\n",
       "      <td>8.00</td>\n",
       "      <td>40.0</td>\n",
       "    </tr>\n",
       "    <tr>\n",
       "      <th>8</th>\n",
       "      <td>Запустить акцию, дающую скидку на товар в день...</td>\n",
       "      <td>1</td>\n",
       "      <td>9</td>\n",
       "      <td>9</td>\n",
       "      <td>5</td>\n",
       "      <td>16.20</td>\n",
       "      <td>16.2</td>\n",
       "    </tr>\n",
       "    <tr>\n",
       "      <th>3</th>\n",
       "      <td>Изменить структура категорий, что увеличит кон...</td>\n",
       "      <td>8</td>\n",
       "      <td>3</td>\n",
       "      <td>3</td>\n",
       "      <td>8</td>\n",
       "      <td>1.12</td>\n",
       "      <td>9.0</td>\n",
       "    </tr>\n",
       "    <tr>\n",
       "      <th>1</th>\n",
       "      <td>Запустить собственную службу доставки, что сок...</td>\n",
       "      <td>2</td>\n",
       "      <td>5</td>\n",
       "      <td>4</td>\n",
       "      <td>10</td>\n",
       "      <td>2.00</td>\n",
       "      <td>4.0</td>\n",
       "    </tr>\n",
       "    <tr>\n",
       "      <th>5</th>\n",
       "      <td>Добавить страницу отзывов клиентов о магазине,...</td>\n",
       "      <td>3</td>\n",
       "      <td>2</td>\n",
       "      <td>2</td>\n",
       "      <td>3</td>\n",
       "      <td>1.33</td>\n",
       "      <td>4.0</td>\n",
       "    </tr>\n",
       "    <tr>\n",
       "      <th>4</th>\n",
       "      <td>Изменить цвет фона главной страницы, чтобы уве...</td>\n",
       "      <td>3</td>\n",
       "      <td>1</td>\n",
       "      <td>1</td>\n",
       "      <td>1</td>\n",
       "      <td>1.00</td>\n",
       "      <td>3.0</td>\n",
       "    </tr>\n",
       "  </tbody>\n",
       "</table>\n",
       "</div>"
      ],
      "text/plain": [
       "                                          Hypothesis  Reach  Impact  \\\n",
       "7  Добавить форму подписки на все основные страни...     10       7   \n",
       "2  Добавить блоки рекомендаций товаров на сайт ин...      8       3   \n",
       "0  Добавить два новых канала привлечения трафика,...      3      10   \n",
       "6  Показать на главной странице баннеры с актуаль...      5       3   \n",
       "8  Запустить акцию, дающую скидку на товар в день...      1       9   \n",
       "3  Изменить структура категорий, что увеличит кон...      8       3   \n",
       "1  Запустить собственную службу доставки, что сок...      2       5   \n",
       "5  Добавить страницу отзывов клиентов о магазине,...      3       2   \n",
       "4  Изменить цвет фона главной страницы, чтобы уве...      3       1   \n",
       "\n",
       "   Confidence  Efforts    ICE   RICE  \n",
       "7           8        5  11.20  112.0  \n",
       "2           7        3   7.00   56.0  \n",
       "0           8        6  13.33   40.0  \n",
       "6           8        3   8.00   40.0  \n",
       "8           9        5  16.20   16.2  \n",
       "3           3        8   1.12    9.0  \n",
       "1           4       10   2.00    4.0  \n",
       "5           2        3   1.33    4.0  \n",
       "4           1        1   1.00    3.0  "
      ]
     },
     "execution_count": 5,
     "metadata": {},
     "output_type": "execute_result"
    }
   ],
   "source": [
    "hypothesis['RICE'] = round(\n",
    "    hypothesis['Reach'] * hypothesis['Impact'] * hypothesis['Confidence'] / hypothesis['Efforts'], 2\n",
    ")\n",
    "\n",
    "hypothesis.sort_values('RICE', ascending = False)"
   ]
  },
  {
   "cell_type": "markdown",
   "metadata": {},
   "source": [
    "По этому фреймворку наивысший приоритет получила гипотеза **№7**, так как помимо высоких оценок Impact и Confidence она имеет высокую оцнку Reach (по доле затрагиваемых пользователей). На второе место поднялась гипотеза **№2** так же по причине высокой оценки Reach.\n",
    "\n",
    "Гипотзеа **№0** так же вошла в тройку, как и при оценке по методу ICE. Гипотеза **№8**, занимавашая первое место по ICE, по RICE опстилась на пятое место из-за низкой оценки Reach."
   ]
  },
  {
   "cell_type": "markdown",
   "metadata": {},
   "source": [
    "### Вывод по первой части\n",
    "\n",
    "Выбор фреймворка вляияет на приоритизацию гипотез и их выбор для проверки. Оценки параметров играют важную роль в расчете приоритетов как по методу ICE, так и по методу RICE."
   ]
  },
  {
   "cell_type": "markdown",
   "metadata": {},
   "source": [
    "## Чсть 2. Анализ A/B-теста"
   ]
  },
  {
   "cell_type": "markdown",
   "metadata": {},
   "source": [
    "A/B-тест проведен. Проанализируем его результаты.\n",
    "\n",
    "Задачи анализа:\n",
    "\n",
    "1. Анализ кумулятивной выручки, кумулятивного среднего чека и кумулятивной конверсии по группам. Анализ относительных значений между группами в течение теста.\n",
    "2. Выявление возможных аномалий по количеству заказов на отдельно взятого пользователя и размерам одного чека, фильтрация (удаление) аномальных пользователей и аномальных заказов из данных.\n",
    "3. Расчет статистической значимости различий в среднем количестве заказов на посетителя и в среднем чеке заказа между группами теста по \"сырым\" данным и по данным, очищенным от аномалий.\n",
    "4. Принятие решения по результатам теста."
   ]
  },
  {
   "cell_type": "markdown",
   "metadata": {},
   "source": [
    "### Знакомство с данными"
   ]
  },
  {
   "cell_type": "markdown",
   "metadata": {},
   "source": [
    "Подключим необходимые для проведения анализа библиотеки, считаем данные, ознакомимся с ними."
   ]
  },
  {
   "cell_type": "code",
   "execution_count": 6,
   "metadata": {},
   "outputs": [],
   "source": [
    "import datetime as dt\n",
    "import numpy as np\n",
    "import scipy.stats as st\n",
    "import matplotlib.pyplot as plt\n",
    "from math import sqrt as sqrt"
   ]
  },
  {
   "cell_type": "code",
   "execution_count": 7,
   "metadata": {},
   "outputs": [],
   "source": [
    "try:\n",
    "    orders = pd.read_csv('/datasets/orders.csv')\n",
    "    visitors = pd.read_csv('/datasets/visitors.csv')\n",
    "except:\n",
    "    orders = pd.read_csv('datasets/orders.csv')\n",
    "    visitors = pd.read_csv('datasets/visitors.csv')"
   ]
  },
  {
   "cell_type": "code",
   "execution_count": 8,
   "metadata": {},
   "outputs": [
    {
     "data": {
      "text/html": [
       "<div>\n",
       "<style scoped>\n",
       "    .dataframe tbody tr th:only-of-type {\n",
       "        vertical-align: middle;\n",
       "    }\n",
       "\n",
       "    .dataframe tbody tr th {\n",
       "        vertical-align: top;\n",
       "    }\n",
       "\n",
       "    .dataframe thead th {\n",
       "        text-align: right;\n",
       "    }\n",
       "</style>\n",
       "<table border=\"1\" class=\"dataframe\">\n",
       "  <thead>\n",
       "    <tr style=\"text-align: right;\">\n",
       "      <th></th>\n",
       "      <th>transactionId</th>\n",
       "      <th>visitorId</th>\n",
       "      <th>date</th>\n",
       "      <th>revenue</th>\n",
       "      <th>group</th>\n",
       "    </tr>\n",
       "  </thead>\n",
       "  <tbody>\n",
       "    <tr>\n",
       "      <th>0</th>\n",
       "      <td>3667963787</td>\n",
       "      <td>3312258926</td>\n",
       "      <td>2019-08-15</td>\n",
       "      <td>1650</td>\n",
       "      <td>B</td>\n",
       "    </tr>\n",
       "    <tr>\n",
       "      <th>1</th>\n",
       "      <td>2804400009</td>\n",
       "      <td>3642806036</td>\n",
       "      <td>2019-08-15</td>\n",
       "      <td>730</td>\n",
       "      <td>B</td>\n",
       "    </tr>\n",
       "    <tr>\n",
       "      <th>2</th>\n",
       "      <td>2961555356</td>\n",
       "      <td>4069496402</td>\n",
       "      <td>2019-08-15</td>\n",
       "      <td>400</td>\n",
       "      <td>A</td>\n",
       "    </tr>\n",
       "    <tr>\n",
       "      <th>3</th>\n",
       "      <td>3797467345</td>\n",
       "      <td>1196621759</td>\n",
       "      <td>2019-08-15</td>\n",
       "      <td>9759</td>\n",
       "      <td>B</td>\n",
       "    </tr>\n",
       "    <tr>\n",
       "      <th>4</th>\n",
       "      <td>2282983706</td>\n",
       "      <td>2322279887</td>\n",
       "      <td>2019-08-15</td>\n",
       "      <td>2308</td>\n",
       "      <td>B</td>\n",
       "    </tr>\n",
       "  </tbody>\n",
       "</table>\n",
       "</div>"
      ],
      "text/plain": [
       "   transactionId   visitorId        date  revenue group\n",
       "0     3667963787  3312258926  2019-08-15     1650     B\n",
       "1     2804400009  3642806036  2019-08-15      730     B\n",
       "2     2961555356  4069496402  2019-08-15      400     A\n",
       "3     3797467345  1196621759  2019-08-15     9759     B\n",
       "4     2282983706  2322279887  2019-08-15     2308     B"
      ]
     },
     "execution_count": 8,
     "metadata": {},
     "output_type": "execute_result"
    }
   ],
   "source": [
    "orders.head()"
   ]
  },
  {
   "cell_type": "code",
   "execution_count": 9,
   "metadata": {},
   "outputs": [
    {
     "name": "stdout",
     "output_type": "stream",
     "text": [
      "<class 'pandas.core.frame.DataFrame'>\n",
      "RangeIndex: 1197 entries, 0 to 1196\n",
      "Data columns (total 5 columns):\n",
      " #   Column         Non-Null Count  Dtype \n",
      "---  ------         --------------  ----- \n",
      " 0   transactionId  1197 non-null   int64 \n",
      " 1   visitorId      1197 non-null   int64 \n",
      " 2   date           1197 non-null   object\n",
      " 3   revenue        1197 non-null   int64 \n",
      " 4   group          1197 non-null   object\n",
      "dtypes: int64(3), object(2)\n",
      "memory usage: 46.9+ KB\n"
     ]
    }
   ],
   "source": [
    "orders.info()"
   ]
  },
  {
   "cell_type": "code",
   "execution_count": 10,
   "metadata": {},
   "outputs": [
    {
     "data": {
      "text/html": [
       "<div>\n",
       "<style scoped>\n",
       "    .dataframe tbody tr th:only-of-type {\n",
       "        vertical-align: middle;\n",
       "    }\n",
       "\n",
       "    .dataframe tbody tr th {\n",
       "        vertical-align: top;\n",
       "    }\n",
       "\n",
       "    .dataframe thead th {\n",
       "        text-align: right;\n",
       "    }\n",
       "</style>\n",
       "<table border=\"1\" class=\"dataframe\">\n",
       "  <thead>\n",
       "    <tr style=\"text-align: right;\">\n",
       "      <th></th>\n",
       "      <th>date</th>\n",
       "      <th>group</th>\n",
       "      <th>visitors</th>\n",
       "    </tr>\n",
       "  </thead>\n",
       "  <tbody>\n",
       "    <tr>\n",
       "      <th>0</th>\n",
       "      <td>2019-08-01</td>\n",
       "      <td>A</td>\n",
       "      <td>719</td>\n",
       "    </tr>\n",
       "    <tr>\n",
       "      <th>1</th>\n",
       "      <td>2019-08-02</td>\n",
       "      <td>A</td>\n",
       "      <td>619</td>\n",
       "    </tr>\n",
       "    <tr>\n",
       "      <th>2</th>\n",
       "      <td>2019-08-03</td>\n",
       "      <td>A</td>\n",
       "      <td>507</td>\n",
       "    </tr>\n",
       "    <tr>\n",
       "      <th>3</th>\n",
       "      <td>2019-08-04</td>\n",
       "      <td>A</td>\n",
       "      <td>717</td>\n",
       "    </tr>\n",
       "    <tr>\n",
       "      <th>4</th>\n",
       "      <td>2019-08-05</td>\n",
       "      <td>A</td>\n",
       "      <td>756</td>\n",
       "    </tr>\n",
       "  </tbody>\n",
       "</table>\n",
       "</div>"
      ],
      "text/plain": [
       "         date group  visitors\n",
       "0  2019-08-01     A       719\n",
       "1  2019-08-02     A       619\n",
       "2  2019-08-03     A       507\n",
       "3  2019-08-04     A       717\n",
       "4  2019-08-05     A       756"
      ]
     },
     "execution_count": 10,
     "metadata": {},
     "output_type": "execute_result"
    }
   ],
   "source": [
    "visitors.head()"
   ]
  },
  {
   "cell_type": "code",
   "execution_count": 11,
   "metadata": {
    "scrolled": true
   },
   "outputs": [
    {
     "name": "stdout",
     "output_type": "stream",
     "text": [
      "<class 'pandas.core.frame.DataFrame'>\n",
      "RangeIndex: 62 entries, 0 to 61\n",
      "Data columns (total 3 columns):\n",
      " #   Column    Non-Null Count  Dtype \n",
      "---  ------    --------------  ----- \n",
      " 0   date      62 non-null     object\n",
      " 1   group     62 non-null     object\n",
      " 2   visitors  62 non-null     int64 \n",
      "dtypes: int64(1), object(2)\n",
      "memory usage: 1.6+ KB\n"
     ]
    }
   ],
   "source": [
    "visitors.info()"
   ]
  },
  {
   "cell_type": "code",
   "execution_count": 12,
   "metadata": {},
   "outputs": [
    {
     "name": "stdout",
     "output_type": "stream",
     "text": [
      "2019-08-01\n",
      "2019-08-31\n",
      "2019-08-01\n",
      "2019-08-31\n"
     ]
    }
   ],
   "source": [
    "print(visitors['date'].min())\n",
    "print(visitors['date'].max())\n",
    "print(orders['date'].min())\n",
    "print(orders['date'].max())"
   ]
  },
  {
   "cell_type": "markdown",
   "metadata": {},
   "source": [
    "Имеем два файла с результатами теста, проведенного в период с 2019-08-01 по 2019-08-31.\n",
    "\n",
    "В файле orders представлены 1197 записей со следующми столбцами:\n",
    "- transactionId — идентификатор заказа;\n",
    "- visitorId — идентификатор пользователя, совершившего заказ;\n",
    "- date — дата, когда был совершён заказ;\n",
    "- revenue — выручка заказа;\n",
    "- group — группа A/B-теста, в которую попал заказ.\n",
    "\n",
    "В файл visitors представлены 62 записи со следующми столбцами:\n",
    "- date — дата;\n",
    "- group — группа A/B-теста;\n",
    "- visitors — количество пользователей в указанную дату в указанной группе A/B-теста"
   ]
  },
  {
   "cell_type": "markdown",
   "metadata": {},
   "source": [
    "### Предобработка данных"
   ]
  },
  {
   "cell_type": "markdown",
   "metadata": {},
   "source": [
    "Проверим данные на дубликаты. Удалим их при наличии."
   ]
  },
  {
   "cell_type": "code",
   "execution_count": 13,
   "metadata": {},
   "outputs": [
    {
     "data": {
      "text/plain": [
       "0"
      ]
     },
     "execution_count": 13,
     "metadata": {},
     "output_type": "execute_result"
    }
   ],
   "source": [
    "orders[orders.duplicated()]['transactionId'].count()"
   ]
  },
  {
   "cell_type": "markdown",
   "metadata": {},
   "source": [
    "Полных явных дубликатов в таблице заказов не выявлено.\n",
    "\n",
    "Проверим, нет ли задвоенных транзакций."
   ]
  },
  {
   "cell_type": "code",
   "execution_count": 14,
   "metadata": {},
   "outputs": [
    {
     "data": {
      "text/plain": [
       "0"
      ]
     },
     "execution_count": 14,
     "metadata": {},
     "output_type": "execute_result"
    }
   ],
   "source": [
    "orders[orders.duplicated(['transactionId'])]['transactionId'].count()"
   ]
  },
  {
   "cell_type": "markdown",
   "metadata": {},
   "source": [
    "Задвоенные транзакции так же отсутствуют.\n",
    "\n",
    "Убедимся в отсутствии дубликатов в таблице посещаемости"
   ]
  },
  {
   "cell_type": "code",
   "execution_count": 15,
   "metadata": {},
   "outputs": [
    {
     "data": {
      "text/plain": [
       "0"
      ]
     },
     "execution_count": 15,
     "metadata": {},
     "output_type": "execute_result"
    }
   ],
   "source": [
    "visitors[visitors.duplicated()]['visitors'].count()"
   ]
  },
  {
   "cell_type": "code",
   "execution_count": 16,
   "metadata": {},
   "outputs": [
    {
     "data": {
      "text/plain": [
       "0"
      ]
     },
     "execution_count": 16,
     "metadata": {},
     "output_type": "execute_result"
    }
   ],
   "source": [
    "visitors[visitors.duplicated(['date', 'group'])]['visitors'].count()"
   ]
  },
  {
   "cell_type": "markdown",
   "metadata": {},
   "source": [
    "В таблице посещаемости так же отсутствуют дубликаты."
   ]
  },
  {
   "cell_type": "markdown",
   "metadata": {},
   "source": [
    "Преобразуем столбцы с датой в соответствующий тип данных."
   ]
  },
  {
   "cell_type": "code",
   "execution_count": 17,
   "metadata": {},
   "outputs": [],
   "source": [
    "orders['date'] = orders['date'].map(lambda x: dt.datetime.strptime(x, '%Y-%m-%d'))\n",
    "visitors['date'] = visitors['date'].map(lambda x: dt.datetime.strptime(x, '%Y-%m-%d'))"
   ]
  },
  {
   "cell_type": "markdown",
   "metadata": {},
   "source": [
    "### Проверка исходных данных"
   ]
  },
  {
   "cell_type": "markdown",
   "metadata": {},
   "source": [
    "Для правильного анализа результатов А/Б теста убедимся в корректности собранных в ходе него данных и их пригодности для анализа."
   ]
  },
  {
   "cell_type": "markdown",
   "metadata": {},
   "source": [
    "#### Проверка отсутствия пересечений между группами "
   ]
  },
  {
   "cell_type": "markdown",
   "metadata": {},
   "source": [
    "Проверим, нет ли случаев ошибочного попадания заказов одних и тех же пользователей в разные группы теста."
   ]
  },
  {
   "cell_type": "code",
   "execution_count": 18,
   "metadata": {},
   "outputs": [],
   "source": [
    "usersA = pd.DataFrame(orders[orders['group'] == 'A']['visitorId'].unique(), columns=['userId'])\n",
    "usersB = pd.DataFrame(orders[orders['group'] == 'B']['visitorId'].unique(), columns=['userId'])\n",
    "crossedUsers = usersA.merge(usersB, on='userId')"
   ]
  },
  {
   "cell_type": "code",
   "execution_count": 19,
   "metadata": {
    "scrolled": true
   },
   "outputs": [
    {
     "name": "stdout",
     "output_type": "stream",
     "text": [
      "Количество покупателей, оказавшихся в обеих группах: 58\n"
     ]
    }
   ],
   "source": [
    "print('Количество покупателей, оказавшихся в обеих группах: {}'.format(crossedUsers['userId'].count()))"
   ]
  },
  {
   "cell_type": "markdown",
   "metadata": {},
   "source": [
    "Имеем 58 покупателей, покупки которых оказались как в группе А, так и в группе В. Это свидетельсвтует об ошибках при проведении теста или при сборе данных. Одни и те же пользователи не должны попадать в разные группы теста. Таких покупателей нужно исключить из выборок, так как для них невозможно однозначно определить, повлияла ли на них тестируемая гипотеза. Анализ такого А/Б теста будет некорректен.\n",
    "\n",
    "Исключим данные об этих пользователях из таблицы с заказми."
   ]
  },
  {
   "cell_type": "code",
   "execution_count": 20,
   "metadata": {},
   "outputs": [],
   "source": [
    "orders = orders[np.logical_not(orders['visitorId'].isin(crossedUsers['userId']))].reset_index(drop=True)"
   ]
  },
  {
   "cell_type": "markdown",
   "metadata": {},
   "source": [
    "К сожалению, исключить этих пользователей из таблицы с посещениями мы не можем, так как в ней собраны агрегированные данные по количеству посетителей."
   ]
  },
  {
   "cell_type": "markdown",
   "metadata": {},
   "source": [
    "#### Проверка равномерности разделения на группы"
   ]
  },
  {
   "cell_type": "markdown",
   "metadata": {},
   "source": [
    "Убедимся в том, что пользователи в ходе проведения теста были разделены на группы в равных долях."
   ]
  },
  {
   "cell_type": "code",
   "execution_count": 21,
   "metadata": {},
   "outputs": [],
   "source": [
    "visitorsDistribution = visitors.groupby('group', as_index=False).agg({'visitors' : 'sum'})"
   ]
  },
  {
   "cell_type": "code",
   "execution_count": 22,
   "metadata": {},
   "outputs": [],
   "source": [
    "visitorsDistribution['portion'] = (\n",
    "    visitorsDistribution['visitors'] \n",
    "    / visitorsDistribution['visitors'].sum()\n",
    ")"
   ]
  },
  {
   "cell_type": "code",
   "execution_count": 23,
   "metadata": {},
   "outputs": [
    {
     "data": {
      "text/html": [
       "<div>\n",
       "<style scoped>\n",
       "    .dataframe tbody tr th:only-of-type {\n",
       "        vertical-align: middle;\n",
       "    }\n",
       "\n",
       "    .dataframe tbody tr th {\n",
       "        vertical-align: top;\n",
       "    }\n",
       "\n",
       "    .dataframe thead th {\n",
       "        text-align: right;\n",
       "    }\n",
       "</style>\n",
       "<table border=\"1\" class=\"dataframe\">\n",
       "  <thead>\n",
       "    <tr style=\"text-align: right;\">\n",
       "      <th></th>\n",
       "      <th>group</th>\n",
       "      <th>visitors</th>\n",
       "      <th>portion</th>\n",
       "    </tr>\n",
       "  </thead>\n",
       "  <tbody>\n",
       "    <tr>\n",
       "      <th>0</th>\n",
       "      <td>A</td>\n",
       "      <td>18736</td>\n",
       "      <td>0.49761</td>\n",
       "    </tr>\n",
       "    <tr>\n",
       "      <th>1</th>\n",
       "      <td>B</td>\n",
       "      <td>18916</td>\n",
       "      <td>0.50239</td>\n",
       "    </tr>\n",
       "  </tbody>\n",
       "</table>\n",
       "</div>"
      ],
      "text/plain": [
       "  group  visitors  portion\n",
       "0     A     18736  0.49761\n",
       "1     B     18916  0.50239"
      ]
     },
     "execution_count": 23,
     "metadata": {},
     "output_type": "execute_result"
    }
   ],
   "source": [
    "visitorsDistribution"
   ]
  },
  {
   "cell_type": "code",
   "execution_count": 24,
   "metadata": {},
   "outputs": [
    {
     "name": "stdout",
     "output_type": "stream",
     "text": [
      "Относительное различие числа пользователей в группах теста: 0.96%\n"
     ]
    }
   ],
   "source": [
    "print(\n",
    "    'Относительное различие числа пользователей в группах теста: {}%'\n",
    "    .format(\n",
    "        round(\n",
    "            (visitorsDistribution[visitorsDistribution['group'] == 'B']['portion'].iloc[0] \n",
    "            / visitorsDistribution[visitorsDistribution['group'] == 'A']['portion'].iloc[0] - 1) * 100, \n",
    "            2\n",
    "        )\n",
    "    )\n",
    ")"
   ]
  },
  {
   "cell_type": "markdown",
   "metadata": {},
   "source": [
    "В группу Б попало немного больше пользователей, чем в группу А. Однако разница между долями менее 1%. Будем считать, что пользователи разделены в ходе теста корректно."
   ]
  },
  {
   "cell_type": "markdown",
   "metadata": {},
   "source": [
    "#### Вывод по пункту\n",
    "\n",
    "При проверке исходных данных были выявлены пересечения между группами: заказы некоторых пользователей оказались в обеих группах. Для корректного анализа теста такие пользователи были удалены из датасетов.\n",
    "\n",
    "Также было проверено, что пользователи в ходе теста были разделены между группами в равных долях.\n",
    "\n",
    "Можно приступать к анализу результатов А/Б-теста."
   ]
  },
  {
   "cell_type": "markdown",
   "metadata": {},
   "source": [
    "### Расчет кумулятивных показателей"
   ]
  },
  {
   "cell_type": "markdown",
   "metadata": {},
   "source": [
    "Подготовим общий датафрейм, связав данные по датам, разделив показатели по группам и расчитав кумулятивные показатели на каждую дату."
   ]
  },
  {
   "cell_type": "code",
   "execution_count": 25,
   "metadata": {},
   "outputs": [],
   "source": [
    "visitorsADaily = visitors[visitors['group'] == 'A'][['date', 'visitors']]\n",
    "visitorsADaily.columns = ['date', 'visitorsPerDateA']\n",
    "\n",
    "visitorsACummulative = visitorsADaily.apply(\n",
    "    lambda x: visitorsADaily[visitorsADaily['date'] <= x['date']].agg(\n",
    "        {'date': 'max', 'visitorsPerDateA': 'sum'}\n",
    "    ),\n",
    "    axis=1,\n",
    ")\n",
    "visitorsACummulative.columns = ['date', 'visitorsCummulativeA']\n",
    "\n",
    "visitorsBDaily = visitors[visitors['group'] == 'B'][['date', 'visitors']]\n",
    "visitorsBDaily.columns = ['date', 'visitorsPerDateB']\n",
    "\n",
    "visitorsBCummulative = visitorsBDaily.apply(\n",
    "    lambda x: visitorsBDaily[visitorsBDaily['date'] <= x['date']].agg(\n",
    "        {'date': 'max', 'visitorsPerDateB': 'sum'}\n",
    "    ),\n",
    "    axis=1,\n",
    ")\n",
    "visitorsBCummulative.columns = ['date', 'visitorsCummulativeB']\n",
    "\n",
    "ordersADaily = (\n",
    "    orders[orders['group'] == 'A'][['date', 'transactionId', 'visitorId', 'revenue']]\n",
    "    .groupby('date', as_index=False)\n",
    "    .agg({'transactionId': pd.Series.nunique, 'revenue': 'sum'})\n",
    ")\n",
    "ordersADaily.columns = ['date', 'ordersPerDateA', 'revenuePerDateA']\n",
    "\n",
    "ordersACummulative = ordersADaily.apply(\n",
    "    lambda x: ordersADaily[ordersADaily['date'] <= x['date']].agg(\n",
    "        {'date': 'max', 'ordersPerDateA': 'sum', 'revenuePerDateA': 'sum'}\n",
    "    ),\n",
    "    axis=1,\n",
    ").sort_values(by=['date'])\n",
    "ordersACummulative.columns = [\n",
    "    'date',\n",
    "    'ordersCummulativeA',\n",
    "    'revenueCummulativeA',\n",
    "]\n",
    "\n",
    "ordersBDaily = (\n",
    "    orders[orders['group'] == 'B'][['date', 'transactionId', 'visitorId', 'revenue']]\n",
    "    .groupby('date', as_index=False)\n",
    "    .agg({'transactionId': pd.Series.nunique, 'revenue': 'sum'})\n",
    ")\n",
    "ordersBDaily.columns = ['date', 'ordersPerDateB', 'revenuePerDateB']\n",
    "\n",
    "ordersBCummulative = ordersBDaily.apply(\n",
    "    lambda x: ordersBDaily[ordersBDaily['date'] <= x['date']].agg(\n",
    "        {'date': 'max', 'ordersPerDateB': 'sum', 'revenuePerDateB': 'sum'}\n",
    "    ),\n",
    "    axis=1,\n",
    ").sort_values(by=['date'])\n",
    "ordersBCummulative.columns = [\n",
    "    'date',\n",
    "    'ordersCummulativeB',\n",
    "    'revenueCummulativeB',\n",
    "]\n",
    "\n",
    "data = (\n",
    "    ordersADaily.merge(\n",
    "        ordersBDaily, left_on='date', right_on='date', how='left'\n",
    "    )\n",
    "    .merge(ordersACummulative, left_on='date', right_on='date', how='left')\n",
    "    .merge(ordersBCummulative, left_on='date', right_on='date', how='left')\n",
    "    .merge(visitorsADaily, left_on='date', right_on='date', how='left')\n",
    "    .merge(visitorsBDaily, left_on='date', right_on='date', how='left')\n",
    "    .merge(visitorsACummulative, left_on='date', right_on='date', how='left')\n",
    "    .merge(visitorsBCummulative, left_on='date', right_on='date', how='left')\n",
    ")"
   ]
  },
  {
   "cell_type": "code",
   "execution_count": 26,
   "metadata": {},
   "outputs": [
    {
     "data": {
      "text/html": [
       "<div>\n",
       "<style scoped>\n",
       "    .dataframe tbody tr th:only-of-type {\n",
       "        vertical-align: middle;\n",
       "    }\n",
       "\n",
       "    .dataframe tbody tr th {\n",
       "        vertical-align: top;\n",
       "    }\n",
       "\n",
       "    .dataframe thead th {\n",
       "        text-align: right;\n",
       "    }\n",
       "</style>\n",
       "<table border=\"1\" class=\"dataframe\">\n",
       "  <thead>\n",
       "    <tr style=\"text-align: right;\">\n",
       "      <th></th>\n",
       "      <th>date</th>\n",
       "      <th>ordersPerDateA</th>\n",
       "      <th>revenuePerDateA</th>\n",
       "      <th>ordersPerDateB</th>\n",
       "      <th>revenuePerDateB</th>\n",
       "      <th>ordersCummulativeA</th>\n",
       "      <th>revenueCummulativeA</th>\n",
       "      <th>ordersCummulativeB</th>\n",
       "      <th>revenueCummulativeB</th>\n",
       "      <th>visitorsPerDateA</th>\n",
       "      <th>visitorsPerDateB</th>\n",
       "      <th>visitorsCummulativeA</th>\n",
       "      <th>visitorsCummulativeB</th>\n",
       "    </tr>\n",
       "  </thead>\n",
       "  <tbody>\n",
       "    <tr>\n",
       "      <th>0</th>\n",
       "      <td>2019-08-01</td>\n",
       "      <td>23</td>\n",
       "      <td>142779</td>\n",
       "      <td>17</td>\n",
       "      <td>59758</td>\n",
       "      <td>23</td>\n",
       "      <td>142779</td>\n",
       "      <td>17</td>\n",
       "      <td>59758</td>\n",
       "      <td>719</td>\n",
       "      <td>713</td>\n",
       "      <td>719</td>\n",
       "      <td>713</td>\n",
       "    </tr>\n",
       "    <tr>\n",
       "      <th>1</th>\n",
       "      <td>2019-08-02</td>\n",
       "      <td>19</td>\n",
       "      <td>91602</td>\n",
       "      <td>23</td>\n",
       "      <td>162043</td>\n",
       "      <td>42</td>\n",
       "      <td>234381</td>\n",
       "      <td>40</td>\n",
       "      <td>221801</td>\n",
       "      <td>619</td>\n",
       "      <td>581</td>\n",
       "      <td>1338</td>\n",
       "      <td>1294</td>\n",
       "    </tr>\n",
       "    <tr>\n",
       "      <th>2</th>\n",
       "      <td>2019-08-03</td>\n",
       "      <td>24</td>\n",
       "      <td>112473</td>\n",
       "      <td>14</td>\n",
       "      <td>67049</td>\n",
       "      <td>66</td>\n",
       "      <td>346854</td>\n",
       "      <td>54</td>\n",
       "      <td>288850</td>\n",
       "      <td>507</td>\n",
       "      <td>509</td>\n",
       "      <td>1845</td>\n",
       "      <td>1803</td>\n",
       "    </tr>\n",
       "    <tr>\n",
       "      <th>3</th>\n",
       "      <td>2019-08-04</td>\n",
       "      <td>11</td>\n",
       "      <td>41176</td>\n",
       "      <td>14</td>\n",
       "      <td>96890</td>\n",
       "      <td>77</td>\n",
       "      <td>388030</td>\n",
       "      <td>68</td>\n",
       "      <td>385740</td>\n",
       "      <td>717</td>\n",
       "      <td>770</td>\n",
       "      <td>2562</td>\n",
       "      <td>2573</td>\n",
       "    </tr>\n",
       "    <tr>\n",
       "      <th>4</th>\n",
       "      <td>2019-08-05</td>\n",
       "      <td>22</td>\n",
       "      <td>86383</td>\n",
       "      <td>21</td>\n",
       "      <td>89908</td>\n",
       "      <td>99</td>\n",
       "      <td>474413</td>\n",
       "      <td>89</td>\n",
       "      <td>475648</td>\n",
       "      <td>756</td>\n",
       "      <td>707</td>\n",
       "      <td>3318</td>\n",
       "      <td>3280</td>\n",
       "    </tr>\n",
       "  </tbody>\n",
       "</table>\n",
       "</div>"
      ],
      "text/plain": [
       "        date  ordersPerDateA  revenuePerDateA  ordersPerDateB  \\\n",
       "0 2019-08-01              23           142779              17   \n",
       "1 2019-08-02              19            91602              23   \n",
       "2 2019-08-03              24           112473              14   \n",
       "3 2019-08-04              11            41176              14   \n",
       "4 2019-08-05              22            86383              21   \n",
       "\n",
       "   revenuePerDateB  ordersCummulativeA  revenueCummulativeA  \\\n",
       "0            59758                  23               142779   \n",
       "1           162043                  42               234381   \n",
       "2            67049                  66               346854   \n",
       "3            96890                  77               388030   \n",
       "4            89908                  99               474413   \n",
       "\n",
       "   ordersCummulativeB  revenueCummulativeB  visitorsPerDateA  \\\n",
       "0                  17                59758               719   \n",
       "1                  40               221801               619   \n",
       "2                  54               288850               507   \n",
       "3                  68               385740               717   \n",
       "4                  89               475648               756   \n",
       "\n",
       "   visitorsPerDateB  visitorsCummulativeA  visitorsCummulativeB  \n",
       "0               713                   719                   713  \n",
       "1               581                  1338                  1294  \n",
       "2               509                  1845                  1803  \n",
       "3               770                  2562                  2573  \n",
       "4               707                  3318                  3280  "
      ]
     },
     "execution_count": 26,
     "metadata": {},
     "output_type": "execute_result"
    }
   ],
   "source": [
    "data.head()"
   ]
  },
  {
   "cell_type": "markdown",
   "metadata": {},
   "source": [
    "Подготовили общий датасет: разделили показатели по группам теста, посчитали суммарные количества заказов и выручки по группам по дням теста, а также кумулятивные показатели количества заказов, количества посетителей и суммарной выручки по группам."
   ]
  },
  {
   "cell_type": "markdown",
   "metadata": {},
   "source": [
    "### Анализ кумулятивных показателей"
   ]
  },
  {
   "cell_type": "markdown",
   "metadata": {},
   "source": [
    "#### Анализ кумулятивной выручки"
   ]
  },
  {
   "cell_type": "markdown",
   "metadata": {},
   "source": [
    "Построим график кумулятивной выручки по группам."
   ]
  },
  {
   "cell_type": "code",
   "execution_count": 27,
   "metadata": {},
   "outputs": [
    {
     "data": {
      "image/png": "[encoded data removed]",
      "text/plain": [
       "<Figure size 720x288 with 1 Axes>"
      ]
     },
     "metadata": {
      "needs_background": "light"
     },
     "output_type": "display_data"
    }
   ],
   "source": [
    "plt.figure(figsize=[10, 4])\n",
    "plt.plot(data['date'], data['revenueCummulativeA'], label='группа A')\n",
    "plt.plot(data['date'], data['revenueCummulativeB'], label='группа B')\n",
    "plt.legend()\n",
    "plt.title('Кумулятивная выручка по группам')\n",
    "plt.xlabel('Дата')\n",
    "plt.ylabel('Выручка')\n",
    "plt.axis([dt.datetime(2019, 8, 1), dt.datetime(2019, 8, 31), 0, 6000000])\n",
    "plt.grid(axis='y');"
   ]
  },
  {
   "cell_type": "markdown",
   "metadata": {},
   "source": [
    "Кумулятивная выручка группы B стабильно выше кумулятивной выручки группы A. Выручка группы А равномерно увеличивается в течение всего теста. А вот в группе B имеется сильный скачок выручки в середине теста. Это может сигнализировать о всплесках числа заказов, либо о появлении очень дорогих заказов в выборке в эти даты. Далее изучим этот момент в данных."
   ]
  },
  {
   "cell_type": "markdown",
   "metadata": {},
   "source": [
    "#### Анализ кумулятивного среднего чека"
   ]
  },
  {
   "cell_type": "markdown",
   "metadata": {},
   "source": [
    "Построим график кумулятивного среднего чека по группам."
   ]
  },
  {
   "cell_type": "code",
   "execution_count": 28,
   "metadata": {},
   "outputs": [
    {
     "data": {
      "image/png": "[encoded data removed]",
      "text/plain": [
       "<Figure size 720x288 with 1 Axes>"
      ]
     },
     "metadata": {
      "needs_background": "light"
     },
     "output_type": "display_data"
    }
   ],
   "source": [
    "plt.figure(figsize=[10, 4])\n",
    "plt.plot(data['date'], data['revenueCummulativeA'] / data['ordersCummulativeA'], label='группа A')\n",
    "plt.plot(data['date'], data['revenueCummulativeB'] / data['ordersCummulativeB'], label='группа B')\n",
    "plt.legend()\n",
    "plt.axis([dt.datetime(2019, 8, 1), dt.datetime(2019, 8, 31), 0, 12000])\n",
    "plt.title('Кумулятивный средний чек по группам')\n",
    "plt.xlabel('Дата')\n",
    "plt.ylabel('Средний чек')\n",
    "plt.grid(axis='y');"
   ]
  },
  {
   "cell_type": "markdown",
   "metadata": {},
   "source": [
    "Средний чек в группе А стабилизировался уже к середине теста.\n",
    "\n",
    "В группе В произошел резкий скачок среднего чека в середине теста. Видимо, здесь в эту группу попали крупные заказы. Затем средний чек в этой группе стал постепенно снижаться. Чтобы прийти к реальному среднему чеку и установиться на его уровне, для группы В нужно больше данных. "
   ]
  },
  {
   "cell_type": "markdown",
   "metadata": {},
   "source": [
    "Построим график относительного различия для среднего чека между группами."
   ]
  },
  {
   "cell_type": "code",
   "execution_count": 29,
   "metadata": {},
   "outputs": [
    {
     "data": {
      "image/png": "[encoded data removed]",
      "text/plain": [
       "<Figure size 720x288 with 1 Axes>"
      ]
     },
     "metadata": {
      "needs_background": "light"
     },
     "output_type": "display_data"
    }
   ],
   "source": [
    "plt.figure(figsize=[10, 4])\n",
    "plt.plot(data['date'], \n",
    "         (data['revenueCummulativeB'] / data['ordersCummulativeB'])\n",
    "         / (data['revenueCummulativeA'] / data['ordersCummulativeA']) - 1)\n",
    "\n",
    "plt.axhline(y=0, color='black', linestyle='--')\n",
    "plt.axis([dt.datetime(2019, 8, 1), dt.datetime(2019, 8, 31), -0.6, 0.6])\n",
    "plt.title('Относительное различие среднего чека между группами')\n",
    "plt.xlabel('Дата')\n",
    "plt.ylabel('Отношение среднего чека');"
   ]
  },
  {
   "cell_type": "markdown",
   "metadata": {},
   "source": [
    "В целом, график различия среднего чека между сегментами распологается в положительной зоне координатной сетки. Это говорит о том, что в основном на протяжении теста средний чек в группе В был выше среднего чека в группе А.\n",
    "\n",
    "Однако, в нескольких точках график  резко «скачет». Это говорит о попадании в выборки курпных заказов.\n",
    "\n",
    "Также по графику можно сказать, что оношение средних чеков не стабилизировалось и к концу теста стало постепенно снижаться. Чтобы прийти к реальному значению и установиться на его уровне, нужно больше данных."
   ]
  },
  {
   "cell_type": "markdown",
   "metadata": {},
   "source": [
    "#### Анализ кумулятивной конверсии"
   ]
  },
  {
   "cell_type": "markdown",
   "metadata": {},
   "source": [
    "Построим график кумулятивного среднего количества заказов на посетителя по группам."
   ]
  },
  {
   "cell_type": "code",
   "execution_count": 30,
   "metadata": {},
   "outputs": [
    {
     "data": {
      "image/png": "[encoded data removed]",
      "text/plain": [
       "<Figure size 720x288 with 1 Axes>"
      ]
     },
     "metadata": {
      "needs_background": "light"
     },
     "output_type": "display_data"
    }
   ],
   "source": [
    "plt.figure(figsize=[10, 4])\n",
    "plt.plot(data['date'], data['ordersCummulativeA'] / data['visitorsCummulativeA'], label='группа A')\n",
    "plt.plot(data['date'], data['ordersCummulativeB'] / data['visitorsCummulativeB'], label='группа B')\n",
    "plt.legend()\n",
    "plt.axis([dt.datetime(2019, 8, 1), dt.datetime(2019, 8, 31), 0, 0.05])\n",
    "plt.title('Кумулятивное среднее количество заказов на посетителя')\n",
    "plt.xlabel('Дата')\n",
    "plt.ylabel('Количество заказов на посетителя')\n",
    "plt.grid(axis='y');"
   ]
  },
  {
   "cell_type": "markdown",
   "metadata": {},
   "source": [
    "В начале теста сегмент А имел более высоку конверсию, чем сегмент В. Но затем конверсия сигмента А снизилась, а сегдмента В возросла. Значения конверсий зафиксировались к середине теста. Конверсия сегмента В стала стабильно выше конверсии сегмента А.\n",
    "\n",
    "Возможно, в первые даты теста на конверсию оказывли влияния факторы привлечения клиентов, имевшие место до запуска теста, так как для клиентов характерно наличие некоторого промежутка времени между проявлением интереса к товару и моментом принятия окончательного решения о покупке."
   ]
  },
  {
   "cell_type": "markdown",
   "metadata": {},
   "source": [
    "Построим график относительного изменения кумулятивного среднего количества заказов на посетителя группы B к группе A."
   ]
  },
  {
   "cell_type": "code",
   "execution_count": 31,
   "metadata": {
    "scrolled": false
   },
   "outputs": [
    {
     "data": {
      "image/png": "[encoded data removed]",
      "text/plain": [
       "<Figure size 720x288 with 1 Axes>"
      ]
     },
     "metadata": {
      "needs_background": "light"
     },
     "output_type": "display_data"
    }
   ],
   "source": [
    "plt.figure(figsize=[10, 4])\n",
    "\n",
    "plt.plot(data['date'], \n",
    "         (data['ordersCummulativeB'] / data['visitorsCummulativeB']) \n",
    "         / (data['ordersCummulativeA'] / data['visitorsCummulativeA']) - 1)\n",
    "\n",
    "plt.grid(color='black', linestyle='--', linewidth=0.5, axis='y')\n",
    "plt.axis([dt.datetime(2019, 8, 1), dt.datetime(2019, 8, 31), -0.3, 0.3])\n",
    "plt.title('Отношение кумулятивной конверсии группы В к группе А')\n",
    "plt.xlabel('Дата')\n",
    "plt.ylabel('Отношение конверсии');"
   ]
  },
  {
   "cell_type": "markdown",
   "metadata": {},
   "source": [
    "К концу первой недели теста группа В превзошла группу А по конверсии, показывая значение от 10% до 20% выше относительно группы А."
   ]
  },
  {
   "cell_type": "markdown",
   "metadata": {},
   "source": [
    "#### Результаты анализа кумулятивных показателей"
   ]
  },
  {
   "cell_type": "markdown",
   "metadata": {},
   "source": [
    "Кумулятивные показатели выручки, среднего чек и конверсии в группе B выше кумулятивных показателей группы A.\n",
    "\n",
    "Однако, на графиках имеются сильные скачки, говорящие о попадании в выборки в некоторые моменты теста аномально дорогих заказов или их аномально большого числа.\n",
    "\n",
    "Необходимо изучить этот момент, что мы и сделаем далее.\n",
    "\n",
    "Также по графику среднего чека можно увидеть, что в группе Б этот показатель не стабилизировался и продолжает снижаться к концу теста. Чтобы прийти к реальному среднему чеку и установиться на его уровне, для группы В нужно больше данных."
   ]
  },
  {
   "cell_type": "markdown",
   "metadata": {},
   "source": [
    "### Определение аномалий и выбросов в данных"
   ]
  },
  {
   "cell_type": "markdown",
   "metadata": {},
   "source": [
    "#### Определение аномалий в количестве заказов"
   ]
  },
  {
   "cell_type": "markdown",
   "metadata": {},
   "source": [
    "Построим точечный график количества заказов по пользователям."
   ]
  },
  {
   "cell_type": "code",
   "execution_count": 32,
   "metadata": {},
   "outputs": [],
   "source": [
    "ordersByUsers = (\n",
    "    orders\n",
    "    .groupby('visitorId', as_index=False)\n",
    "    .agg({'transactionId': 'nunique'})\n",
    ")\n",
    "\n",
    "ordersByUsers.columns = ['userId', 'orders']"
   ]
  },
  {
   "cell_type": "code",
   "execution_count": 33,
   "metadata": {},
   "outputs": [
    {
     "data": {
      "image/png": "[encoded data removed]",
      "text/plain": [
       "<Figure size 720x216 with 1 Axes>"
      ]
     },
     "metadata": {
      "needs_background": "light"
     },
     "output_type": "display_data"
    }
   ],
   "source": [
    "x_values = pd.Series(range(0,len(ordersByUsers)))\n",
    "plt.figure(figsize=[10, 3])\n",
    "plt.scatter(x_values, ordersByUsers['orders'])\n",
    "plt.title('Количество заказов')\n",
    "plt.xlabel('Условный номер пользователя')\n",
    "plt.ylabel('Количество заказов')\n",
    "plt.yticks([1, 2, 3]);"
   ]
  },
  {
   "cell_type": "markdown",
   "metadata": {},
   "source": [
    "Явных выбросов в количестве заказов на одного пользователя не выявлено.\n",
    "\n",
    "Подавляющее большинство пользователей сделали 1 покупку. Но также в выборку попало большое число пользователей, совершивших 2 и 3 заказа. Нужно понять, считать их аномалиями или нет.\n",
    "\n",
    "Для этого посчитаем выборочные перцентили количества заказов на одного пользователя."
   ]
  },
  {
   "cell_type": "code",
   "execution_count": 34,
   "metadata": {},
   "outputs": [
    {
     "name": "stdout",
     "output_type": "stream",
     "text": [
      "[1. 2.]\n"
     ]
    }
   ],
   "source": [
    "print(np.percentile(ordersByUsers['orders'], [95, 99]))"
   ]
  },
  {
   "cell_type": "markdown",
   "metadata": {},
   "source": [
    "99% пользователей оформили не более двух заказов, 95% - не более одного.\n",
    "\n",
    "Выберем два заказа в качестве верхней границы, выше которой пользователей будем считать аномальными. И далее отсеем этот 1% пользователей."
   ]
  },
  {
   "cell_type": "markdown",
   "metadata": {},
   "source": [
    "#### Определение аномальных стоимостей заказов"
   ]
  },
  {
   "cell_type": "markdown",
   "metadata": {},
   "source": [
    "Посмотрим на самые дорогие заказы и на распределение цен заказов."
   ]
  },
  {
   "cell_type": "code",
   "execution_count": 35,
   "metadata": {},
   "outputs": [
    {
     "data": {
      "text/html": [
       "<div>\n",
       "<style scoped>\n",
       "    .dataframe tbody tr th:only-of-type {\n",
       "        vertical-align: middle;\n",
       "    }\n",
       "\n",
       "    .dataframe tbody tr th {\n",
       "        vertical-align: top;\n",
       "    }\n",
       "\n",
       "    .dataframe thead th {\n",
       "        text-align: right;\n",
       "    }\n",
       "</style>\n",
       "<table border=\"1\" class=\"dataframe\">\n",
       "  <thead>\n",
       "    <tr style=\"text-align: right;\">\n",
       "      <th></th>\n",
       "      <th>transactionId</th>\n",
       "      <th>visitorId</th>\n",
       "      <th>date</th>\n",
       "      <th>revenue</th>\n",
       "      <th>group</th>\n",
       "    </tr>\n",
       "  </thead>\n",
       "  <tbody>\n",
       "    <tr>\n",
       "      <th>365</th>\n",
       "      <td>590470918</td>\n",
       "      <td>1920142716</td>\n",
       "      <td>2019-08-19</td>\n",
       "      <td>1294500</td>\n",
       "      <td>B</td>\n",
       "    </tr>\n",
       "    <tr>\n",
       "      <th>1015</th>\n",
       "      <td>3936777065</td>\n",
       "      <td>2108080724</td>\n",
       "      <td>2019-08-15</td>\n",
       "      <td>202740</td>\n",
       "      <td>B</td>\n",
       "    </tr>\n",
       "    <tr>\n",
       "      <th>971</th>\n",
       "      <td>666610489</td>\n",
       "      <td>1307669133</td>\n",
       "      <td>2019-08-13</td>\n",
       "      <td>92550</td>\n",
       "      <td>A</td>\n",
       "    </tr>\n",
       "    <tr>\n",
       "      <th>632</th>\n",
       "      <td>3668308183</td>\n",
       "      <td>888512513</td>\n",
       "      <td>2019-08-27</td>\n",
       "      <td>86620</td>\n",
       "      <td>B</td>\n",
       "    </tr>\n",
       "    <tr>\n",
       "      <th>631</th>\n",
       "      <td>3603576309</td>\n",
       "      <td>4133034833</td>\n",
       "      <td>2019-08-09</td>\n",
       "      <td>67990</td>\n",
       "      <td>A</td>\n",
       "    </tr>\n",
       "    <tr>\n",
       "      <th>939</th>\n",
       "      <td>1348774318</td>\n",
       "      <td>1164614297</td>\n",
       "      <td>2019-08-12</td>\n",
       "      <td>66350</td>\n",
       "      <td>A</td>\n",
       "    </tr>\n",
       "    <tr>\n",
       "      <th>937</th>\n",
       "      <td>316924019</td>\n",
       "      <td>148427295</td>\n",
       "      <td>2019-08-12</td>\n",
       "      <td>65710</td>\n",
       "      <td>A</td>\n",
       "    </tr>\n",
       "    <tr>\n",
       "      <th>811</th>\n",
       "      <td>1347999392</td>\n",
       "      <td>887908475</td>\n",
       "      <td>2019-08-21</td>\n",
       "      <td>60450</td>\n",
       "      <td>A</td>\n",
       "    </tr>\n",
       "    <tr>\n",
       "      <th>802</th>\n",
       "      <td>2420050534</td>\n",
       "      <td>4003628586</td>\n",
       "      <td>2019-08-08</td>\n",
       "      <td>58550</td>\n",
       "      <td>B</td>\n",
       "    </tr>\n",
       "    <tr>\n",
       "      <th>109</th>\n",
       "      <td>3163614039</td>\n",
       "      <td>2254586615</td>\n",
       "      <td>2019-08-22</td>\n",
       "      <td>53904</td>\n",
       "      <td>A</td>\n",
       "    </tr>\n",
       "  </tbody>\n",
       "</table>\n",
       "</div>"
      ],
      "text/plain": [
       "      transactionId   visitorId       date  revenue group\n",
       "365       590470918  1920142716 2019-08-19  1294500     B\n",
       "1015     3936777065  2108080724 2019-08-15   202740     B\n",
       "971       666610489  1307669133 2019-08-13    92550     A\n",
       "632      3668308183   888512513 2019-08-27    86620     B\n",
       "631      3603576309  4133034833 2019-08-09    67990     A\n",
       "939      1348774318  1164614297 2019-08-12    66350     A\n",
       "937       316924019   148427295 2019-08-12    65710     A\n",
       "811      1347999392   887908475 2019-08-21    60450     A\n",
       "802      2420050534  4003628586 2019-08-08    58550     B\n",
       "109      3163614039  2254586615 2019-08-22    53904     A"
      ]
     },
     "execution_count": 35,
     "metadata": {},
     "output_type": "execute_result"
    }
   ],
   "source": [
    "orders.sort_values('revenue', ascending=False).head(10)"
   ]
  },
  {
   "cell_type": "markdown",
   "metadata": {},
   "source": [
    "Среди 10 крупнейших заказов цены находятся в пределах 100 000 рублей. Кроме двух, цены которых составляют 202 740 и 1 294 500. Оба этих заказ приходятся на группу B.\n",
    "\n",
    "Попадание таких заказов в одну из групп теста исказит результат. При этом такие покупки - редкость. Их всего две из более чем тысячи записей, имеющихся в таблице. Их вполне можно считать случайностью, а не результатом тестирования гипотезы.\n",
    "\n",
    "Изучим точечный график стоимостей заказов:"
   ]
  },
  {
   "cell_type": "code",
   "execution_count": 36,
   "metadata": {},
   "outputs": [
    {
     "data": {
      "image/png": "[encoded data removed]",
      "text/plain": [
       "<Figure size 720x216 with 1 Axes>"
      ]
     },
     "metadata": {
      "needs_background": "light"
     },
     "output_type": "display_data"
    }
   ],
   "source": [
    "x_values = pd.Series(range(0,len(orders['revenue'])))\n",
    "plt.figure(figsize=[10, 3])\n",
    "plt.scatter(x_values, orders['revenue'])\n",
    "plt.title('Стоимости заказов')\n",
    "plt.xlabel('Условный номер заказа')\n",
    "plt.ylabel('Стоимость заказа');"
   ]
  },
  {
   "cell_type": "markdown",
   "metadata": {},
   "source": [
    "На графике хорошо виден уникальный заказ, цена которого очень сильно отличатеся от остальных. А также второй по величине заказ, который также стоит особняком. Вероятнее всего, эти заказ попали в выборку случайно, и не могут считаться результатом тестирования гипотезы.\n",
    "\n",
    "Кроме этих двух заказов, цены остальных заказов укладываются в диапазон до 100 000. Изменим границы графика, чтобы посмотреть на самые распространенные значения цен заказов:"
   ]
  },
  {
   "cell_type": "code",
   "execution_count": 37,
   "metadata": {},
   "outputs": [
    {
     "data": {
      "image/png": "[encoded data removed]",
      "text/plain": [
       "<Figure size 720x216 with 1 Axes>"
      ]
     },
     "metadata": {
      "needs_background": "light"
     },
     "output_type": "display_data"
    }
   ],
   "source": [
    "x_values = pd.Series(range(0,len(orders['revenue'])))\n",
    "plt.figure(figsize=[10, 3])\n",
    "plt.scatter(x_values, orders['revenue'])\n",
    "plt.ylim([0, 100000])\n",
    "plt.title('Стоимости заказов')\n",
    "plt.xlabel('Условный номер заказа')\n",
    "plt.ylabel('Стоимость заказа');"
   ]
  },
  {
   "cell_type": "markdown",
   "metadata": {},
   "source": [
    "По графику видно, что большинство заказов совершалось на сумму до 20 000. Однако также имеется много заказов на сумму от 20 000 до 100 000. Нужно определить, какие заказы считать аномально большими. Для этого посчитаем выборочные перцентили, чтобы определить точную границу для удаления аномально больших заказов:"
   ]
  },
  {
   "cell_type": "code",
   "execution_count": 38,
   "metadata": {},
   "outputs": [
    {
     "name": "stdout",
     "output_type": "stream",
     "text": [
      "[26785. 53904.]\n"
     ]
    }
   ],
   "source": [
    "print(np.percentile(orders['revenue'], [95, 99]))"
   ]
  },
  {
   "cell_type": "markdown",
   "metadata": {},
   "source": [
    "Более 99% всех заказов совершались на сумму до 54 000. Выберем это значение за границу, а все, что выше, будем считать аномалиями. Далее удалим эти аномальные заказы из выборок."
   ]
  },
  {
   "cell_type": "markdown",
   "metadata": {},
   "source": [
    "#### Результат выявления аномалий\n",
    "\n",
    "Явных выбросов в количестве заказов на одного пользователя не выявлено. Все пользователи совершили от 1 до 3 заказов. При этом 99% - не более двух. Пользователей, совершивших более двух покупок за период теста, будеи считать аномальными и удалим из выборок.\n",
    "\n",
    "В сумме чека одного заказа обнаружены явные выбросы - очень редкие крупные заказы. Оба крупнейших чека попали в группу Б. Они-то и исказили кумулятивные показатели. Также было расчитано, что 99% покупателей совершили покупку на сумму менее 54 000. Все, что больше этой суммы, будем считать аномалиями и удалим пользователей, сделавших такие заказы, из выборок."
   ]
  },
  {
   "cell_type": "markdown",
   "metadata": {},
   "source": [
    "### Проверка гипотезы о статистической значимости различий между группами теста"
   ]
  },
  {
   "cell_type": "markdown",
   "metadata": {},
   "source": [
    "#### Расчет статистической значимости различий по \"сырым\" данным"
   ]
  },
  {
   "cell_type": "markdown",
   "metadata": {},
   "source": [
    "##### Гипотеза о различии в среднем количестве заказов на посетителя\n",
    "\n",
    "Сформулируем гипотезы. Нулевая: различий в среднем количестве заказов между группами нет. Альтернативная: различия в среднем количестве заказов между группами есть. Установим уровень значимости равный 5%."
   ]
  },
  {
   "cell_type": "code",
   "execution_count": 39,
   "metadata": {},
   "outputs": [],
   "source": [
    "alpha = 0.05"
   ]
  },
  {
   "cell_type": "markdown",
   "metadata": {},
   "source": [
    "Посчитаем статистическую значимость различий в среднем количестве заказов на посетителя между группами по «сырым» данным — без удаления аномальных пользователей.\n",
    "\n",
    "Создадим переменные `ordersByUsersA` и `ordersByUsersB` со столбцами `['userId', 'orders']`. В них для пользователей, которые заказывали хотя бы 1 раз, укажем число совершённых заказов."
   ]
  },
  {
   "cell_type": "code",
   "execution_count": 40,
   "metadata": {},
   "outputs": [],
   "source": [
    "ordersByUsersA = (\n",
    "    orders[orders['group'] == 'A']\n",
    "    .groupby('visitorId', as_index=False)\n",
    "    .agg({'transactionId': 'nunique'})\n",
    ")\n",
    "ordersByUsersA.columns = ['userId', 'orders']\n",
    "\n",
    "ordersByUsersB = (\n",
    "    orders[orders['group'] == 'B']\n",
    "    .groupby('visitorId', as_index=False)\n",
    "    .agg({'transactionId': 'nunique'})\n",
    ")\n",
    "ordersByUsersB.columns = ['userId', 'orders']"
   ]
  },
  {
   "cell_type": "markdown",
   "metadata": {},
   "source": [
    "Объявим переменные `sampleA` и `sampleB`, в которых пользователям из разных групп будет соответствовать количество заказов. Тем, кто ничего не заказал, будут соответствовать нули."
   ]
  },
  {
   "cell_type": "code",
   "execution_count": 41,
   "metadata": {},
   "outputs": [],
   "source": [
    "sampleA = pd.concat(\n",
    "    [ordersByUsersA['orders'],\n",
    "     pd.Series(0, \n",
    "               index=np.arange(data['visitorsPerDateA'].sum() - len(ordersByUsersA['orders'])), \n",
    "               name='orders')],\n",
    "    axis=0)\n",
    "\n",
    "sampleB = pd.concat(\n",
    "    [ordersByUsersB['orders'],\n",
    "     pd.Series(0, \n",
    "               index=np.arange(data['visitorsPerDateB'].sum() - len(ordersByUsersB['orders'])), \n",
    "               name='orders')],\n",
    "    axis=0)"
   ]
  },
  {
   "cell_type": "markdown",
   "metadata": {},
   "source": [
    "Применим критерий Манна-Уитни. Посчитаем p-value.\n",
    "\n",
    "Чтобы получить среднее число заказов на пользователя, найдём среднее в каждой из выборок методом mean(). Выведем относительный прирост среднего числа заказов группы B."
   ]
  },
  {
   "cell_type": "code",
   "execution_count": 42,
   "metadata": {
    "scrolled": true
   },
   "outputs": [
    {
     "name": "stdout",
     "output_type": "stream",
     "text": [
      "p-value по Манну-Уитни по \"сырым\" данным: 1.10%\n",
      "\n",
      "Относительный прирост среднего числа заказов по \"сырым\" данным: 15.98%\n",
      "\n",
      "Имеется статистически значимое различие. Отвергаем нулевую гипотезу.\n"
     ]
    }
   ],
   "source": [
    "p_value = st.mannwhitneyu(sampleA, sampleB)[1]\n",
    "\n",
    "print('p-value по Манну-Уитни по \"сырым\" данным: {:.2%}'.format(p_value))\n",
    "print()\n",
    "print('Относительный прирост среднего числа заказов по \"сырым\" данным: {:.2%}'\n",
    "      .format(sampleB.mean() / sampleA.mean() - 1))\n",
    "print()\n",
    "if p_value < alpha:\n",
    "    print('Имеется статистически значимое различие. Отвергаем нулевую гипотезу.')\n",
    "else:\n",
    "    print('Статистически значимое различие отсутствует. Ну удалось отвергнуть нулевую гипотезу.')"
   ]
  },
  {
   "cell_type": "markdown",
   "metadata": {},
   "source": [
    "По \"сырым\" данным мы видим статистически значимый прирост среднего числа заказов в группе В к группе А. Поэтому можем отвергнуть нулевую гипотезу о том, что различий в среднем количестве заказов между группами нет."
   ]
  },
  {
   "cell_type": "markdown",
   "metadata": {},
   "source": [
    "##### Гипотеза о различии в среднем чеке заказа\n",
    "\n",
    "Сформулируем гипотезы. Нулевая: различий в среднем чеке заказа между группами нет. Альтернативная: различия в среднем чеке заказа между группами есть. Оставим уровень значимости равный 5%. Применим критерий Манна-Уитни и посчитаем `p-value`. Также посчитаем относительное различие среднего размера чека между группами."
   ]
  },
  {
   "cell_type": "code",
   "execution_count": 43,
   "metadata": {},
   "outputs": [
    {
     "name": "stdout",
     "output_type": "stream",
     "text": [
      "p-value по Манну-Уитни по \"сырым\" данным: 82.95%\n",
      "\n",
      "Относительный прирост среднего чека по \"сырым\" данным: 28.66%\n",
      "\n",
      "Статистически значимое различие отсутствует. Ну удалось отвергнуть нулевую гипотезу.\n"
     ]
    }
   ],
   "source": [
    "p_value = st.mannwhitneyu(orders[orders['group']=='A']['revenue'],\n",
    "                          orders[orders['group']=='B']['revenue'])[1]\n",
    "\n",
    "print('p-value по Манну-Уитни по \"сырым\" данным: {:.2%}'.format(p_value))\n",
    "print()\n",
    "print('Относительный прирост среднего чека по \"сырым\" данным: {:.2%}'\n",
    "      .format(orders[orders['group']=='B']['revenue'].mean()\n",
    "              /orders[orders['group']=='A']['revenue'].mean()-1))\n",
    "print()\n",
    "if p_value < alpha:\n",
    "    print('Имеется статистически значимое различие. Отвергаем нулевую гипотезу.')\n",
    "else:\n",
    "    print('Статистически значимое различие отсутствует. Ну удалось отвергнуть нулевую гипотезу.')"
   ]
  },
  {
   "cell_type": "markdown",
   "metadata": {},
   "source": [
    "Не смотря на то, что относительный прирост среднего чека в группе В к группе А по \"сырым\" данным составляет более 28%, `p-value`, рассчитанное по критерию Манна-Уитни, слишком большое, чтобы говорить о статистически значимом различии в среднем чеке. Поэтому нулевую гипотизу об отсутствии различий в среднем чеке между группами по \"сырым\" данным мы не можем отвергнуть."
   ]
  },
  {
   "cell_type": "markdown",
   "metadata": {},
   "source": [
    "#### Расчет статистической значимости различий по \"очищенным\" данным"
   ]
  },
  {
   "cell_type": "markdown",
   "metadata": {},
   "source": [
    "##### Выделение аномальных пользователей из выборок"
   ]
  },
  {
   "cell_type": "markdown",
   "metadata": {},
   "source": [
    "На этот раз проверку гипотез осуществим по \"очищенным\" данным - с удаленными аномалиями. Ранее мы расчитали 95 и 99 перцентили количества заказов на пользователя и суммы заказа. Примем за аномальных пользователей тех, кто совершил более двух заказов или совершил заказ дороже 54 000 рублей. Так мы уберём 1% пользователей с наибольшим числом заказов и около 1% пользователей с дорогими заказами.\n",
    "\n",
    "Сделаем срезы пользователей с числом заказов больше 2 — `usersWithManyOrders` и пользователей, совершивших заказы дороже 54 000 — `usersWithExpensiveOrders`. Объединим их в таблице `abnormalUsers`.\n",
    "\n",
    "Узнаем, сколько всего аномальных пользователей атрибутом `shape`."
   ]
  },
  {
   "cell_type": "code",
   "execution_count": 44,
   "metadata": {},
   "outputs": [
    {
     "name": "stdout",
     "output_type": "stream",
     "text": [
      "16\n"
     ]
    }
   ],
   "source": [
    "usersWithManyOrders = pd.concat(\n",
    "    [\n",
    "        ordersByUsersA[ordersByUsersA['orders'] > 2]['userId'],\n",
    "        ordersByUsersB[ordersByUsersB['orders'] > 2]['userId'],\n",
    "    ],\n",
    "    axis=0,\n",
    ")\n",
    "usersWithExpensiveOrders = orders[orders['revenue'] > 54000]['visitorId']\n",
    "abnormalUsers = (\n",
    "    pd.concat([usersWithManyOrders, usersWithExpensiveOrders], axis=0)\n",
    "    .drop_duplicates()\n",
    "    .sort_values()\n",
    ")\n",
    "print(abnormalUsers.shape[0])"
   ]
  },
  {
   "cell_type": "markdown",
   "metadata": {},
   "source": [
    "Всего 16 аномальных пользователей.\n",
    "\n",
    "Узнаем, как их действия повлияли на результаты теста. Посчитаем статистическую значимость различий между группами теста по \"очищенным\" данным."
   ]
  },
  {
   "cell_type": "markdown",
   "metadata": {},
   "source": [
    "##### Гипотеза о различии в среднем количестве заказов на посетителя\n",
    "\n",
    "Гипотезы - те же. Нулевая: различий в среднем количестве заказов между группами нет. Альтернативная: различия в среднем количестве заказов между группами есть. Установим уровень значимости равный 5%.\n",
    "\n",
    "Сначала подготовим выборки количества заказов по пользователям по группам теста с удаленными аномальными пользователями. Затем мрименим статистический критерий Манна-Уитни к полученным выборкам и расчитаем `p-value`. Также посчитаем относительное различие среднего количества заказов между группами."
   ]
  },
  {
   "cell_type": "code",
   "execution_count": 45,
   "metadata": {},
   "outputs": [],
   "source": [
    "sampleAFiltered = pd.concat(\n",
    "    [\n",
    "        ordersByUsersA[\n",
    "            np.logical_not(ordersByUsersA['userId'].isin(abnormalUsers))\n",
    "        ]['orders'],\n",
    "        pd.Series(\n",
    "            0,\n",
    "            index=np.arange(\n",
    "                data['visitorsPerDateA'].sum() - len(ordersByUsersA['orders'])\n",
    "            ),\n",
    "            name='orders',\n",
    "        ),\n",
    "    ],\n",
    "    axis=0,\n",
    ")\n",
    "\n",
    "sampleBFiltered = pd.concat(\n",
    "    [\n",
    "        ordersByUsersB[\n",
    "            np.logical_not(ordersByUsersB['userId'].isin(abnormalUsers))\n",
    "        ]['orders'],\n",
    "        pd.Series(\n",
    "            0,\n",
    "            index=np.arange(\n",
    "                data['visitorsPerDateB'].sum() - len(ordersByUsersB['orders'])\n",
    "            ),\n",
    "            name='orders',\n",
    "        ),\n",
    "    ],\n",
    "    axis=0,\n",
    ")"
   ]
  },
  {
   "cell_type": "code",
   "execution_count": 46,
   "metadata": {},
   "outputs": [
    {
     "name": "stdout",
     "output_type": "stream",
     "text": [
      "p-value по Манну-Уитни по \"очищенным\" данным: 0.70%\n",
      "\n",
      "Относительный прирост среднего числа заказов по \"очищеным\" данным: 18.92%\n",
      "\n",
      "Имеется статистически значимое различие. Отвергаем нулевую гипотезу.\n"
     ]
    }
   ],
   "source": [
    "p_value = st.mannwhitneyu(sampleAFiltered, sampleBFiltered)[1]\n",
    "\n",
    "print('p-value по Манну-Уитни по \"очищенным\" данным: {:.2%}'.format(p_value))\n",
    "print()\n",
    "print('Относительный прирост среднего числа заказов по \"очищеным\" данным: {:.2%}'\n",
    "      .format(sampleBFiltered.mean() / sampleAFiltered.mean()-1))\n",
    "print()\n",
    "if p_value < alpha:\n",
    "    print('Имеется статистически значимое различие. Отвергаем нулевую гипотезу.')\n",
    "else:\n",
    "    print('Статистически значимое различие отсутствует. Ну удалось отвергнуть нулевую гипотезу.')"
   ]
  },
  {
   "cell_type": "markdown",
   "metadata": {},
   "source": [
    "Так же как и по \"сырым\" данным, по \"очищенным\" данным мы получили статистически значимое различие в среднем числе заказов между группами. Нулевая гипотеза об отсутсвии различий при заданном уровне значимости в 5% может быть отвергнута.\n",
    "\n",
    "Тестируемое изменение показывает, что пользователи группы В охотнее совершают покупки. Среднее количество покупок к количеству посетителей выше относительно группы А почти на 19%."
   ]
  },
  {
   "cell_type": "markdown",
   "metadata": {},
   "source": [
    "##### Гипотеза о различии в среднем чеке заказа\n",
    "\n",
    "Гипотезы - те же. Нулевая: различий в среднем чеке заказа между группами нет. Альтернативная: различия в среднем чеке заказа между группами есть. Оставим уровень значимости в 5%. Применим критерий Манна-Уитни и посчитаем `p-value`. Также посчитаем относительное различие среднего размера чека между группами."
   ]
  },
  {
   "cell_type": "code",
   "execution_count": 47,
   "metadata": {},
   "outputs": [
    {
     "name": "stdout",
     "output_type": "stream",
     "text": [
      "p-value по Манну-Уитни по \"очищенным\" данным: 78.77%\n",
      "\n",
      "Относительный прирост среднего чека по \"очищенным\" данным: -3.23%\n",
      "\n",
      "Статистически значимое различие отсутствует. Не удалось отвергнуть нулевую гипотезу.\n"
     ]
    }
   ],
   "source": [
    "p_value = st.mannwhitneyu(\n",
    "            orders[\n",
    "                np.logical_and(\n",
    "                    orders['group'] == 'A',\n",
    "                    np.logical_not(orders['visitorId'].isin(abnormalUsers)),\n",
    "                )\n",
    "            ]['revenue'],\n",
    "            orders[\n",
    "                np.logical_and(\n",
    "                    orders['group'] == 'B',\n",
    "                    np.logical_not(orders['visitorId'].isin(abnormalUsers)),\n",
    "                )\n",
    "            ]['revenue'],\n",
    "        )[1]\n",
    "    \n",
    "\n",
    "print('p-value по Манну-Уитни по \"очищенным\" данным: {:.2%}'.format(p_value), end='\\n\\n')\n",
    "\n",
    "print(\n",
    "    'Относительный прирост среднего чека по \"очищенным\" данным: {:.2%}'.format(\n",
    "        orders[\n",
    "            np.logical_and(\n",
    "                orders['group'] == 'B',\n",
    "                np.logical_not(orders['visitorId'].isin(abnormalUsers)),\n",
    "            )\n",
    "        ]['revenue'].mean()\n",
    "        / orders[\n",
    "            np.logical_and(\n",
    "                orders['group'] == 'A',\n",
    "                np.logical_not(orders['visitorId'].isin(abnormalUsers)),\n",
    "            )\n",
    "        ]['revenue'].mean()\n",
    "        - 1\n",
    "    ), \n",
    "    end='\\n\\n'\n",
    ")\n",
    "\n",
    "if p_value < alpha:\n",
    "    print('Имеется статистически значимое различие. Отвергаем нулевую гипотезу.')\n",
    "else:\n",
    "    print('Статистически значимое различие отсутствует. Не удалось отвергнуть нулевую гипотезу.')"
   ]
  },
  {
   "cell_type": "markdown",
   "metadata": {},
   "source": [
    "После удаления аномальных пользователей и заказов мы получили все такую же низкую статистическую значимость изменений среднего чека. Гипотеза об отсутствии различий в среднем чеке не может быть отвергнута."
   ]
  },
  {
   "cell_type": "markdown",
   "metadata": {},
   "source": [
    "#### Выводы по расчету статистической значимости различий между группами теста"
   ]
  },
  {
   "cell_type": "markdown",
   "metadata": {},
   "source": [
    "**Тестируемая в ходе А/Б-теста гипотеза приводит к увеличению числа покупок на посетителя.**\n",
    "\n",
    "Анализ результатов показывает, что пользователи группы В охотнее совершают покупки. Среднее отношение количества покупок к количеству посетителей в группе В выше относительно группы А почти на 19% (по \"очищенным\" данным). Статистический тест Манна-Уитни показал статистическую значимость выявленного различия.\n",
    "\n",
    "**Гипотеза об отсутствии различий в среднем чеке между группами теста не может быть отвергнута по результатам А/Б-теста**\n",
    "\n",
    "Статистически значимого изменения в среднем чеке не выявлено при расчете как по \"сырым\" данным, так и по \"очищенным\". Относительный прирост среднего чека в группе В по \"сырым\" данным составил более 28%. Однако при проверке на наличие аномалий были выявлены аномально большие заказы, исказившие результаты расчетов. Эти аномалии были удалены из выборок. В результате по \"очищенным\" данным была получена разница в среднем чеке всего в 3% (причем не в пользу группы Б), которую мы не можем считать статистически значимой для имеющихся выборок."
   ]
  },
  {
   "cell_type": "markdown",
   "metadata": {},
   "source": [
    "### Вывод по второй части"
   ]
  },
  {
   "cell_type": "markdown",
   "metadata": {},
   "source": [
    "Проверка данных показала, что некоторые пользователи попали в обе группы теста. Такие пользователи были исключены из выборок.\n",
    "\n",
    "Кумулятивные показатели выручки, среднего чека и конверсии в группе B выше кумулятивных показателей группы A.\n",
    "\n",
    "Однако, значение среднего чека в группе В не стабилизировалось и снижается.\n",
    "\n",
    "Причем в группу В попали аномально большие заказы, которые и повлияли на кумулятивный результат в группах. Пользователи, совершившие аномально дорогие заказы, были удалены из выборок для последующего анализа различий между группами теста.\n",
    "\n",
    "Анализ различий между группами теста показал статистически значимое различие в количестве заказов на посетителя: посетители группы В чаще соврешают покупки, чем посетители группы А. Такой результат получен как по \"сырым\" данным, так и по данным, \"очищенным\" от аномалий.\n",
    "\n",
    "Однако нельзя то же самое сказать о среднем чеке заказа - статистической значимости в различии среднего чека между группа не выявлено. Причем средний чек в группе Б, посчитанный по \"очищенным\" данным, оказался ниже, чем в группе А на 3%.\n",
    "\n",
    "В совокупности с тем, что кумулятивный график среднего чека постепенно снижается, стоит продолжить тест, чтобы  дождаться установившегося значения среднего чека и повторить статистические тесты различий между группами.\n",
    "\n",
    "На данный момент мы видим, что тестируемая гипотеза приводит к росту конверсии, однако, из-за отсутствия статистически значимого различия в среднем чеке, не можем сказать, приведет ли она к росту выручки."
   ]
  },
  {
   "cell_type": "code",
   "execution_count": null,
   "metadata": {},
   "outputs": [],
   "source": []
  }
 ],
 "metadata": {
  "ExecuteTimeLog": [
   {
    "duration": 412,
    "start_time": "2022-12-14T14:51:32.944Z"
   },
   {
    "duration": 97,
    "start_time": "2022-12-14T14:51:42.124Z"
   },
   {
    "duration": 31,
    "start_time": "2022-12-14T14:52:00.904Z"
   },
   {
    "duration": 8,
    "start_time": "2022-12-14T14:52:04.903Z"
   },
   {
    "duration": 13,
    "start_time": "2022-12-14T14:53:53.598Z"
   },
   {
    "duration": 60,
    "start_time": "2022-12-14T14:54:36.478Z"
   },
   {
    "duration": 9,
    "start_time": "2022-12-14T14:56:04.686Z"
   },
   {
    "duration": 11,
    "start_time": "2022-12-14T14:57:46.758Z"
   },
   {
    "duration": 10,
    "start_time": "2022-12-14T14:58:09.719Z"
   },
   {
    "duration": 12,
    "start_time": "2022-12-14T14:58:17.717Z"
   },
   {
    "duration": 12,
    "start_time": "2022-12-14T14:59:13.986Z"
   },
   {
    "duration": 433,
    "start_time": "2022-12-17T17:57:38.039Z"
   },
   {
    "duration": 83,
    "start_time": "2022-12-17T17:57:38.474Z"
   },
   {
    "duration": 14,
    "start_time": "2022-12-17T17:57:38.559Z"
   },
   {
    "duration": 12,
    "start_time": "2022-12-17T17:57:38.574Z"
   },
   {
    "duration": 12,
    "start_time": "2022-12-17T17:57:38.588Z"
   },
   {
    "duration": 899,
    "start_time": "2022-12-17T17:57:38.602Z"
   },
   {
    "duration": 219,
    "start_time": "2022-12-17T17:57:39.502Z"
   },
   {
    "duration": 8,
    "start_time": "2022-12-17T17:57:39.723Z"
   },
   {
    "duration": 30,
    "start_time": "2022-12-17T17:57:39.734Z"
   },
   {
    "duration": 9,
    "start_time": "2022-12-17T17:57:39.767Z"
   },
   {
    "duration": 13,
    "start_time": "2022-12-17T17:57:39.778Z"
   },
   {
    "duration": 9,
    "start_time": "2022-12-17T17:57:39.793Z"
   },
   {
    "duration": 15,
    "start_time": "2022-12-17T17:57:39.804Z"
   },
   {
    "duration": 8,
    "start_time": "2022-12-17T17:57:39.822Z"
   },
   {
    "duration": 4,
    "start_time": "2022-12-17T17:57:39.831Z"
   },
   {
    "duration": 4,
    "start_time": "2022-12-17T17:57:39.855Z"
   },
   {
    "duration": 9,
    "start_time": "2022-12-17T17:57:39.861Z"
   },
   {
    "duration": 6,
    "start_time": "2022-12-17T17:57:39.872Z"
   },
   {
    "duration": 11,
    "start_time": "2022-12-17T17:57:39.879Z"
   },
   {
    "duration": 7,
    "start_time": "2022-12-17T17:57:39.891Z"
   },
   {
    "duration": 254,
    "start_time": "2022-12-17T17:57:39.899Z"
   },
   {
    "duration": 9,
    "start_time": "2022-12-17T17:57:40.155Z"
   },
   {
    "duration": 264,
    "start_time": "2022-12-17T17:57:40.166Z"
   },
   {
    "duration": 181,
    "start_time": "2022-12-17T17:57:40.432Z"
   },
   {
    "duration": 368,
    "start_time": "2022-12-17T17:57:40.615Z"
   },
   {
    "duration": 179,
    "start_time": "2022-12-17T17:57:40.985Z"
   },
   {
    "duration": 190,
    "start_time": "2022-12-17T17:57:41.166Z"
   },
   {
    "duration": 6,
    "start_time": "2022-12-17T17:57:41.358Z"
   },
   {
    "duration": 129,
    "start_time": "2022-12-17T17:57:41.366Z"
   },
   {
    "duration": 5,
    "start_time": "2022-12-17T17:57:41.497Z"
   },
   {
    "duration": 12,
    "start_time": "2022-12-17T17:57:41.504Z"
   },
   {
    "duration": 144,
    "start_time": "2022-12-17T17:57:41.519Z"
   },
   {
    "duration": 123,
    "start_time": "2022-12-17T17:57:41.665Z"
   },
   {
    "duration": 4,
    "start_time": "2022-12-17T17:57:41.791Z"
   },
   {
    "duration": 5,
    "start_time": "2022-12-17T17:57:41.798Z"
   },
   {
    "duration": 11,
    "start_time": "2022-12-17T17:57:41.805Z"
   },
   {
    "duration": 7,
    "start_time": "2022-12-17T17:57:41.818Z"
   },
   {
    "duration": 66,
    "start_time": "2022-12-17T17:57:41.827Z"
   },
   {
    "duration": 98,
    "start_time": "2022-12-17T17:57:41.895Z"
   },
   {
    "duration": 13,
    "start_time": "2022-12-17T17:57:41.995Z"
   },
   {
    "duration": 12,
    "start_time": "2022-12-17T17:57:42.011Z"
   },
   {
    "duration": 37,
    "start_time": "2022-12-17T17:57:42.025Z"
   },
   {
    "duration": 15,
    "start_time": "2022-12-17T17:57:42.064Z"
   },
   {
    "duration": 372,
    "start_time": "2022-12-17T18:14:54.894Z"
   },
   {
    "duration": 29,
    "start_time": "2022-12-17T18:14:55.268Z"
   },
   {
    "duration": 14,
    "start_time": "2022-12-17T18:14:55.298Z"
   },
   {
    "duration": 16,
    "start_time": "2022-12-17T18:14:55.314Z"
   },
   {
    "duration": 12,
    "start_time": "2022-12-17T18:14:55.332Z"
   },
   {
    "duration": 642,
    "start_time": "2022-12-17T18:14:55.346Z"
   },
   {
    "duration": 52,
    "start_time": "2022-12-17T18:14:55.990Z"
   },
   {
    "duration": 68,
    "start_time": "2022-12-17T18:14:56.044Z"
   },
   {
    "duration": 13,
    "start_time": "2022-12-17T18:14:56.114Z"
   },
   {
    "duration": 9,
    "start_time": "2022-12-17T18:14:56.129Z"
   },
   {
    "duration": 11,
    "start_time": "2022-12-17T18:14:56.155Z"
   },
   {
    "duration": 7,
    "start_time": "2022-12-17T18:14:56.169Z"
   },
   {
    "duration": 15,
    "start_time": "2022-12-17T18:14:56.178Z"
   },
   {
    "duration": 9,
    "start_time": "2022-12-17T18:14:56.196Z"
   },
   {
    "duration": 4,
    "start_time": "2022-12-17T18:14:56.207Z"
   },
   {
    "duration": 11,
    "start_time": "2022-12-17T18:14:56.212Z"
   },
   {
    "duration": 6,
    "start_time": "2022-12-17T18:14:56.256Z"
   },
   {
    "duration": 5,
    "start_time": "2022-12-17T18:14:56.265Z"
   },
   {
    "duration": 10,
    "start_time": "2022-12-17T18:14:56.272Z"
   },
   {
    "duration": 8,
    "start_time": "2022-12-17T18:14:56.284Z"
   },
   {
    "duration": 238,
    "start_time": "2022-12-17T18:14:56.294Z"
   },
   {
    "duration": 9,
    "start_time": "2022-12-17T18:14:56.534Z"
   },
   {
    "duration": 265,
    "start_time": "2022-12-17T18:14:56.545Z"
   },
   {
    "duration": 186,
    "start_time": "2022-12-17T18:14:56.812Z"
   },
   {
    "duration": 246,
    "start_time": "2022-12-17T18:14:57.000Z"
   },
   {
    "duration": 168,
    "start_time": "2022-12-17T18:14:57.255Z"
   },
   {
    "duration": 186,
    "start_time": "2022-12-17T18:14:57.425Z"
   },
   {
    "duration": 7,
    "start_time": "2022-12-17T18:14:57.613Z"
   },
   {
    "duration": 164,
    "start_time": "2022-12-17T18:14:57.622Z"
   },
   {
    "duration": 4,
    "start_time": "2022-12-17T18:14:57.788Z"
   },
   {
    "duration": 12,
    "start_time": "2022-12-17T18:14:57.794Z"
   },
   {
    "duration": 141,
    "start_time": "2022-12-17T18:14:57.807Z"
   },
   {
    "duration": 129,
    "start_time": "2022-12-17T18:14:57.954Z"
   },
   {
    "duration": 4,
    "start_time": "2022-12-17T18:14:58.085Z"
   },
   {
    "duration": 8,
    "start_time": "2022-12-17T18:14:58.091Z"
   },
   {
    "duration": 12,
    "start_time": "2022-12-17T18:14:58.100Z"
   },
   {
    "duration": 6,
    "start_time": "2022-12-17T18:14:58.114Z"
   },
   {
    "duration": 47,
    "start_time": "2022-12-17T18:14:58.122Z"
   },
   {
    "duration": 14,
    "start_time": "2022-12-17T18:14:58.170Z"
   },
   {
    "duration": 10,
    "start_time": "2022-12-17T18:14:58.186Z"
   },
   {
    "duration": 9,
    "start_time": "2022-12-17T18:14:58.199Z"
   },
   {
    "duration": 54,
    "start_time": "2022-12-17T18:14:58.209Z"
   },
   {
    "duration": 15,
    "start_time": "2022-12-17T18:14:58.266Z"
   },
   {
    "duration": 419,
    "start_time": "2022-12-19T10:38:06.707Z"
   },
   {
    "duration": 26,
    "start_time": "2022-12-19T10:38:07.128Z"
   },
   {
    "duration": 13,
    "start_time": "2022-12-19T10:38:07.155Z"
   },
   {
    "duration": 12,
    "start_time": "2022-12-19T10:38:07.170Z"
   },
   {
    "duration": 18,
    "start_time": "2022-12-19T10:38:07.183Z"
   },
   {
    "duration": 771,
    "start_time": "2022-12-19T10:38:07.203Z"
   },
   {
    "duration": 47,
    "start_time": "2022-12-19T10:38:07.976Z"
   },
   {
    "duration": 8,
    "start_time": "2022-12-19T10:38:08.024Z"
   },
   {
    "duration": 16,
    "start_time": "2022-12-19T10:38:08.034Z"
   },
   {
    "duration": 9,
    "start_time": "2022-12-19T10:38:08.052Z"
   },
   {
    "duration": 11,
    "start_time": "2022-12-19T10:38:08.062Z"
   },
   {
    "duration": 8,
    "start_time": "2022-12-19T10:38:08.075Z"
   },
   {
    "duration": 15,
    "start_time": "2022-12-19T10:38:08.084Z"
   },
   {
    "duration": 7,
    "start_time": "2022-12-19T10:38:08.100Z"
   },
   {
    "duration": 16,
    "start_time": "2022-12-19T10:38:08.108Z"
   },
   {
    "duration": 16,
    "start_time": "2022-12-19T10:38:08.125Z"
   },
   {
    "duration": 19,
    "start_time": "2022-12-19T10:38:08.143Z"
   },
   {
    "duration": 11,
    "start_time": "2022-12-19T10:38:08.163Z"
   },
   {
    "duration": 3,
    "start_time": "2022-12-19T10:38:08.176Z"
   },
   {
    "duration": 5,
    "start_time": "2022-12-19T10:38:08.181Z"
   },
   {
    "duration": 12,
    "start_time": "2022-12-19T10:38:08.187Z"
   },
   {
    "duration": 12,
    "start_time": "2022-12-19T10:38:08.201Z"
   },
   {
    "duration": 16,
    "start_time": "2022-12-19T10:38:08.214Z"
   },
   {
    "duration": 7,
    "start_time": "2022-12-19T10:38:08.231Z"
   },
   {
    "duration": 215,
    "start_time": "2022-12-19T10:38:08.240Z"
   },
   {
    "duration": 10,
    "start_time": "2022-12-19T10:38:08.456Z"
   },
   {
    "duration": 399,
    "start_time": "2022-12-19T10:38:08.467Z"
   },
   {
    "duration": 309,
    "start_time": "2022-12-19T10:38:08.870Z"
   },
   {
    "duration": 340,
    "start_time": "2022-12-19T10:38:09.181Z"
   },
   {
    "duration": 353,
    "start_time": "2022-12-19T10:38:09.522Z"
   },
   {
    "duration": 302,
    "start_time": "2022-12-19T10:38:09.876Z"
   },
   {
    "duration": 6,
    "start_time": "2022-12-19T10:38:10.180Z"
   },
   {
    "duration": 273,
    "start_time": "2022-12-19T10:38:10.188Z"
   },
   {
    "duration": 5,
    "start_time": "2022-12-19T10:38:10.463Z"
   },
   {
    "duration": 11,
    "start_time": "2022-12-19T10:38:10.469Z"
   },
   {
    "duration": 333,
    "start_time": "2022-12-19T10:38:10.481Z"
   },
   {
    "duration": 300,
    "start_time": "2022-12-19T10:38:10.815Z"
   },
   {
    "duration": 4,
    "start_time": "2022-12-19T10:38:11.121Z"
   },
   {
    "duration": 6,
    "start_time": "2022-12-19T10:38:11.126Z"
   },
   {
    "duration": 12,
    "start_time": "2022-12-19T10:38:11.133Z"
   },
   {
    "duration": 5,
    "start_time": "2022-12-19T10:38:11.147Z"
   },
   {
    "duration": 25,
    "start_time": "2022-12-19T10:38:11.153Z"
   },
   {
    "duration": 10,
    "start_time": "2022-12-19T10:38:11.180Z"
   },
   {
    "duration": 35,
    "start_time": "2022-12-19T10:38:11.191Z"
   },
   {
    "duration": 11,
    "start_time": "2022-12-19T10:38:11.228Z"
   },
   {
    "duration": 33,
    "start_time": "2022-12-19T10:38:11.241Z"
   },
   {
    "duration": 15,
    "start_time": "2022-12-19T10:38:11.275Z"
   },
   {
    "duration": 417,
    "start_time": "2022-12-19T10:42:18.503Z"
   },
   {
    "duration": 26,
    "start_time": "2022-12-19T10:42:18.922Z"
   },
   {
    "duration": 14,
    "start_time": "2022-12-19T10:42:18.949Z"
   },
   {
    "duration": 18,
    "start_time": "2022-12-19T10:42:18.965Z"
   },
   {
    "duration": 16,
    "start_time": "2022-12-19T10:42:18.985Z"
   },
   {
    "duration": 807,
    "start_time": "2022-12-19T10:42:19.003Z"
   },
   {
    "duration": 48,
    "start_time": "2022-12-19T10:42:19.812Z"
   },
   {
    "duration": 8,
    "start_time": "2022-12-19T10:42:19.862Z"
   },
   {
    "duration": 14,
    "start_time": "2022-12-19T10:42:19.871Z"
   },
   {
    "duration": 11,
    "start_time": "2022-12-19T10:42:19.887Z"
   },
   {
    "duration": 14,
    "start_time": "2022-12-19T10:42:19.900Z"
   },
   {
    "duration": 7,
    "start_time": "2022-12-19T10:42:19.915Z"
   },
   {
    "duration": 9,
    "start_time": "2022-12-19T10:42:19.923Z"
   },
   {
    "duration": 17,
    "start_time": "2022-12-19T10:42:19.934Z"
   },
   {
    "duration": 9,
    "start_time": "2022-12-19T10:42:19.953Z"
   },
   {
    "duration": 13,
    "start_time": "2022-12-19T10:42:19.964Z"
   },
   {
    "duration": 16,
    "start_time": "2022-12-19T10:42:19.979Z"
   },
   {
    "duration": 14,
    "start_time": "2022-12-19T10:42:19.997Z"
   },
   {
    "duration": 21,
    "start_time": "2022-12-19T10:42:20.013Z"
   },
   {
    "duration": 17,
    "start_time": "2022-12-19T10:42:20.036Z"
   },
   {
    "duration": 13,
    "start_time": "2022-12-19T10:42:20.054Z"
   },
   {
    "duration": 15,
    "start_time": "2022-12-19T10:42:20.068Z"
   },
   {
    "duration": 13,
    "start_time": "2022-12-19T10:42:20.085Z"
   },
   {
    "duration": 8,
    "start_time": "2022-12-19T10:42:20.100Z"
   },
   {
    "duration": 213,
    "start_time": "2022-12-19T10:42:20.110Z"
   },
   {
    "duration": 8,
    "start_time": "2022-12-19T10:42:20.325Z"
   },
   {
    "duration": 426,
    "start_time": "2022-12-19T10:42:20.335Z"
   },
   {
    "duration": 329,
    "start_time": "2022-12-19T10:42:20.765Z"
   },
   {
    "duration": 329,
    "start_time": "2022-12-19T10:42:21.095Z"
   },
   {
    "duration": 346,
    "start_time": "2022-12-19T10:42:21.425Z"
   },
   {
    "duration": 318,
    "start_time": "2022-12-19T10:42:21.773Z"
   },
   {
    "duration": 6,
    "start_time": "2022-12-19T10:42:22.092Z"
   },
   {
    "duration": 285,
    "start_time": "2022-12-19T10:42:22.100Z"
   },
   {
    "duration": 4,
    "start_time": "2022-12-19T10:42:22.387Z"
   },
   {
    "duration": 24,
    "start_time": "2022-12-19T10:42:22.392Z"
   },
   {
    "duration": 304,
    "start_time": "2022-12-19T10:42:22.418Z"
   },
   {
    "duration": 301,
    "start_time": "2022-12-19T10:42:22.724Z"
   },
   {
    "duration": 4,
    "start_time": "2022-12-19T10:42:23.027Z"
   },
   {
    "duration": 14,
    "start_time": "2022-12-19T10:42:23.032Z"
   },
   {
    "duration": 23,
    "start_time": "2022-12-19T10:42:23.048Z"
   },
   {
    "duration": 15,
    "start_time": "2022-12-19T10:42:23.073Z"
   },
   {
    "duration": 30,
    "start_time": "2022-12-19T10:42:23.090Z"
   },
   {
    "duration": 11,
    "start_time": "2022-12-19T10:42:23.122Z"
   },
   {
    "duration": 20,
    "start_time": "2022-12-19T10:42:23.135Z"
   },
   {
    "duration": 22,
    "start_time": "2022-12-19T10:42:23.156Z"
   },
   {
    "duration": 43,
    "start_time": "2022-12-19T10:42:23.179Z"
   },
   {
    "duration": 13,
    "start_time": "2022-12-19T10:42:23.224Z"
   }
  ],
  "kernelspec": {
   "display_name": "Python 3 (ipykernel)",
   "language": "python",
   "name": "python3"
  },
  "language_info": {
   "codemirror_mode": {
    "name": "ipython",
    "version": 3
   },
   "file_extension": ".py",
   "mimetype": "text/x-python",
   "name": "python",
   "nbconvert_exporter": "python",
   "pygments_lexer": "ipython3",
   "version": "3.9.15"
  },
  "toc": {
   "base_numbering": 1,
   "nav_menu": {},
   "number_sections": true,
   "sideBar": true,
   "skip_h1_title": true,
   "title_cell": "Table of Contents",
   "title_sidebar": "Contents",
   "toc_cell": false,
   "toc_position": {},
   "toc_section_display": true,
   "toc_window_display": false
  }
 },
 "nbformat": 4,
 "nbformat_minor": 2
}
